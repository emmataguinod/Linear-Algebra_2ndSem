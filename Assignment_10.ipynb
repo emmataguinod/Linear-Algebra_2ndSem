{
  "nbformat": 4,
  "nbformat_minor": 0,
  "metadata": {
    "colab": {
      "name": "Assignment 10.ipynb",
      "provenance": [],
      "include_colab_link": true
    },
    "kernelspec": {
      "name": "python3",
      "display_name": "Python 3"
    },
    "language_info": {
      "name": "python"
    }
  },
  "cells": [
    {
      "cell_type": "markdown",
      "metadata": {
        "id": "view-in-github",
        "colab_type": "text"
      },
      "source": [
        "<a href=\"https://colab.research.google.com/github/emmataguinod/Linear-Algebra_2ndSem/blob/main/Assignment_10.ipynb\" target=\"_parent\"><img src=\"https://colab.research.google.com/assets/colab-badge.svg\" alt=\"Open In Colab\"/></a>"
      ]
    },
    {
      "cell_type": "markdown",
      "source": [
        "# Linear Algebra for ECE\n",
        "## Laboratory 5 : Linear Combination and Vector Spaces"
      ],
      "metadata": {
        "id": "PsmyW7nkfJ85"
      }
    },
    {
      "cell_type": "markdown",
      "source": [
        "### Objectives\n",
        "At the end of this activity you will be able to:\n",
        "1. Be familiar with representing linear combinations in the 2-dimensional plane.\n",
        "2. Visualize spans using vector fields in Python.\n",
        "3. Perform vector fields operations using scientific programming."
      ],
      "metadata": {
        "id": "tMTcdAGdfMik"
      }
    },
    {
      "cell_type": "markdown",
      "source": [
        "## Discussion"
      ],
      "metadata": {
        "id": "pBKRGqYCfWjl"
      }
    },
    {
      "cell_type": "code",
      "source": [
        "import numpy as np\n",
        "import matplotlib.pyplot as plt\n",
        "%matplotlib inline"
      ],
      "metadata": {
        "id": "Xk9AfzEmfa0y"
      },
      "execution_count": 3,
      "outputs": []
    },
    {
      "cell_type": "markdown",
      "source": [
        "## Linear Combination"
      ],
      "metadata": {
        "id": "atgdCOysfv-A"
      }
    },
    {
      "cell_type": "markdown",
      "source": [
        "A linear combination is defined as the addition of a vector's bases/components and its linear scaling."
      ],
      "metadata": {
        "id": "NNAZ-Onff2p2"
      }
    },
    {
      "cell_type": "markdown",
      "source": [
        "By charting a sample of real number values for the scalars for the vectors, we will attempt to visualize the vectors and their linear combinations. Let's start with the following vectors:"
      ],
      "metadata": {
        "id": "RecXQ5A4f3rF"
      }
    },
    {
      "cell_type": "markdown",
      "source": [
        "$$J = \\begin{bmatrix} 7\\\\4 \\\\\\end{bmatrix} , L = \\begin{bmatrix} 10\\\\7 \\\\\\end{bmatrix} $$"
      ],
      "metadata": {
        "id": "NCaOy22zf_uf"
      }
    },
    {
      "cell_type": "code",
      "source": [
        "vectJ =  np.array([7,4])\n",
        "vectL =  np.array([10,7])\n",
        "vectL"
      ],
      "metadata": {
        "id": "wQFlsobqgJOQ",
        "outputId": "a716b5d4-d8b4-492b-ce82-b0adf8b97af0",
        "colab": {
          "base_uri": "https://localhost:8080/"
        }
      },
      "execution_count": 6,
      "outputs": [
        {
          "output_type": "execute_result",
          "data": {
            "text/plain": [
              "array([10,  7])"
            ]
          },
          "metadata": {},
          "execution_count": 6
        }
      ]
    },
    {
      "cell_type": "markdown",
      "source": [
        "#### Span of single vectors"
      ],
      "metadata": {
        "id": "W8tbpXN4gp_1"
      }
    },
    {
      "cell_type": "markdown",
      "source": [
        "A line span can be used to represent the span of individual vectors, as mentioned in the lecture. As an example, consider the vector $J$."
      ],
      "metadata": {
        "id": "opj7Ap_Vgsba"
      }
    },
    {
      "cell_type": "markdown",
      "source": [
        "$$J = c\\cdot \\begin{bmatrix} 7\\\\4 \\\\\\end{bmatrix} $$"
      ],
      "metadata": {
        "id": "FUjXWnyng2bP"
      }
    },
    {
      "cell_type": "code",
      "source": [
        "c = np.arange(-7,12,0.5)\n",
        "\n",
        "plt.scatter(c*vectX[0],c*vectX[1])\n",
        "\n",
        "plt.xlim(-12,12)\n",
        "plt.ylim(-12,12)\n",
        "plt.axhline(y=0, color='k')\n",
        "plt.axvline(x=0, color='k')\n",
        "plt.grid()\n",
        "plt.show()"
      ],
      "metadata": {
        "id": "xjxhl5D3g-KY",
        "outputId": "b9f5c641-74f4-4961-c559-2904ddf3c96a",
        "colab": {
          "base_uri": "https://localhost:8080/",
          "height": 265
        }
      },
      "execution_count": 7,
      "outputs": [
        {
          "output_type": "display_data",
          "data": {
            "text/plain": [
              "<Figure size 432x288 with 1 Axes>"
            ],
            "image/png": "[encoded data removed]"
          },
          "metadata": {
            "needs_background": "light"
          }
        }
      ]
    },
    {
      "cell_type": "markdown",
      "source": [
        "$$L = c\\cdot \\begin{bmatrix} 10\\\\7 \\\\\\end{bmatrix} $$"
      ],
      "metadata": {
        "id": "EDy3XMnvjvyt"
      }
    },
    {
      "cell_type": "code",
      "source": [
        "c = np.arange(-6,16,0.375)\n",
        "\n",
        "plt.scatter(c*vectY[0],c*vectY[1])\n",
        "\n",
        "plt.xlim(-20,20)\n",
        "plt.ylim(-20,20)\n",
        "plt.axhline(y=0, color='k')\n",
        "plt.axvline(x=0, color='k')\n",
        "plt.grid()\n",
        "plt.show()"
      ],
      "metadata": {
        "id": "xNoeLLK7j3-2",
        "outputId": "97e2cd6c-509e-49b2-c14c-06f4a83e2260",
        "colab": {
          "base_uri": "https://localhost:8080/",
          "height": 269
        }
      },
      "execution_count": 8,
      "outputs": [
        {
          "output_type": "display_data",
          "data": {
            "text/plain": [
              "<Figure size 432x288 with 1 Axes>"
            ],
            "image/png": "[encoded data removed]"
          },
          "metadata": {
            "needs_background": "light"
          }
        }
      ]
    },
    {
      "cell_type": "markdown",
      "source": [
        "### Span of a linear combination of vectors"
      ],
      "metadata": {
        "id": "FIvuVbgfkQ9_"
      }
    },
    {
      "cell_type": "markdown",
      "source": [
        "So, what if we wanted to plot the span of a linear vector combination? On a two-dimensional coordinate system, we can represent it as a plane. Consider the following linear combination's span:"
      ],
      "metadata": {
        "id": "dBpHYnaSkZ5g"
      }
    },
    {
      "cell_type": "markdown",
      "source": [
        "$$A = \\begin{Bmatrix} c_1 \\cdot\\begin{bmatrix} 4\\\\2 \\\\\\end{bmatrix}, \n",
        "c_2 \\cdot \\begin{bmatrix} 6\\\\-5 \\\\\\end{bmatrix}\\end{Bmatrix} $$"
      ],
      "metadata": {
        "id": "v1lR_Yeekc1R"
      }
    },
    {
      "cell_type": "code",
      "source": [
        "vectJ = np.array([4,2])\n",
        "vectL = np.array([6,-5])\n",
        "\n",
        "R = np.arange(-15,15,2)\n",
        "\n",
        "c1, c2 = np.meshgrid(R,R)\n",
        "\n",
        "vectR = vectA + vectB\n",
        "spanRx = c1*vectA[0] + c2*vectB[0]\n",
        "spanRy = c1*vectA[1] + c2*vectB[1]\n",
        "plt.scatter(R*vectA[0],R*vectA[1])\n",
        "plt.scatter(R*vectB[0],R*vectB[1])\n",
        "plt.scatter(spanRx,spanRy, s=5, alpha=0.75)\n",
        "\n",
        "plt.axhline(y=0, color='k')\n",
        "plt.axvline(x=0, color='k')\n",
        "plt.grid()\n",
        "plt.show()"
      ],
      "metadata": {
        "id": "69fnNfRrk6Rr",
        "outputId": "1dfca911-ef5c-46c8-b56c-da128dcb95d8",
        "colab": {
          "base_uri": "https://localhost:8080/",
          "height": 265
        }
      },
      "execution_count": 11,
      "outputs": [
        {
          "output_type": "display_data",
          "data": {
            "text/plain": [
              "<Figure size 432x288 with 1 Axes>"
            ],
            "image/png": "[encoded data removed]"
          },
          "metadata": {
            "needs_background": "light"
          }
        }
      ]
    },
    {
      "cell_type": "markdown",
      "source": [
        "$$B = \\begin{Bmatrix} c_1 \\cdot\\begin{bmatrix} 9\\\\4 \\\\\\end{bmatrix}, \n",
        "c_2 \\cdot \\begin{bmatrix} -5\\\\-7 \\\\\\end{bmatrix}\\end{Bmatrix} $$"
      ],
      "metadata": {
        "id": "gGmE9vrNmZeA"
      }
    },
    {
      "cell_type": "code",
      "source": [
        "vectM = np.array([9,4])\n",
        "vectE = np.array([-5,-7])\n",
        "\n",
        "R = np.arange(-12,12,1)\n",
        "\n",
        "c1, c2 = np.meshgrid(R,R)\n",
        "\n",
        "vectR = vectM + vectE\n",
        "spanRx = c1*vectM[0] + c2*vectE[0]\n",
        "spanRy = c1*vectM[1] + c2*vectE[1]\n",
        "##plt.scatter(R*vectA[0],R*vectA[1])\n",
        "##plt.scatter(R*vectB[0],R*vectB[1])\n",
        "plt.scatter(spanRx,spanRy, s=5, alpha=0.75)\n",
        "\n",
        "plt.axhline(y=0, color='k')\n",
        "plt.axvline(x=0, color='k')\n",
        "plt.grid()\n",
        "plt.show()"
      ],
      "metadata": {
        "id": "W9ncmk1dmg_M",
        "outputId": "6056222b-60b0-4c27-b487-f563b0fc38e3",
        "colab": {
          "base_uri": "https://localhost:8080/",
          "height": 265
        }
      },
      "execution_count": 14,
      "outputs": [
        {
          "output_type": "display_data",
          "data": {
            "text/plain": [
              "<Figure size 432x288 with 1 Axes>"
            ],
            "image/png": "[encoded data removed]"
          },
          "metadata": {
            "needs_background": "light"
          }
        }
      ]
    },
    {
      "cell_type": "markdown",
      "source": [
        "Take note that if vectors are seen to be as a 2-dimensional span we can say it has a Rank of 2 or $\\mathbb{R}^2$. But if the span of the linear combination of vectors are seen to be like a line, they are said to be <b> linearly dependent </b> and they have a rank of 1 or $\\mathbb{R}^1$."
      ],
      "metadata": {
        "id": "FnzJmyJUnIVd"
      }
    },
    {
      "cell_type": "markdown",
      "source": [
        "# Activity"
      ],
      "metadata": {
        "id": "jXXUH_hrnNvJ"
      }
    },
    {
      "cell_type": "markdown",
      "source": [
        "### Task 1"
      ],
      "metadata": {
        "id": "-S1_6GzSnRwK"
      }
    }
  ]
}