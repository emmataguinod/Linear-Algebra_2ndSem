{
  "nbformat": 4,
  "nbformat_minor": 0,
  "metadata": {
    "colab": {
      "name": "Assignment 9 - Plotting Vector using NumPy and MatPlotLib",
      "provenance": [],
      "include_colab_link": true
    },
    "kernelspec": {
      "name": "python3",
      "display_name": "Python 3"
    },
    "language_info": {
      "name": "python"
    }
  },
  "cells": [
    {
      "cell_type": "markdown",
      "metadata": {
        "id": "view-in-github",
        "colab_type": "text"
      },
      "source": [
        "<a href=\"https://colab.research.google.com/github/emmataguinod/Linear-Algebra_2ndSem/blob/main/Assignment_9_Plotting_Vector_using_NumPy_and_MatPlotLib.ipynb\" target=\"_parent\"><img src=\"https://colab.research.google.com/assets/colab-badge.svg\" alt=\"Open In Colab\"/></a>"
      ]
    },
    {
      "cell_type": "markdown",
      "source": [
        "#Assignment 9 - Plotting Vector using NumPy and MatPlotLib"
      ],
      "metadata": {
        "id": "D7-3JVU6S42p"
      }
    },
    {
      "cell_type": "markdown",
      "source": [
        "In this laboratory we will be discussing the basics of numerical and scientific programming by working with Vectors using NumPy and MatPlotLib."
      ],
      "metadata": {
        "id": "odnQ5lydS5AW"
      }
    },
    {
      "cell_type": "markdown",
      "source": [
        "### Objectives\n",
        "At the end of this activity you will be able to:\n",
        "1. Be familiar with the libraries in Python for numerical and scientific programming.\n",
        "2. Visualize vectors through Python programming.\n",
        "3. Perform simple vector operations through code."
      ],
      "metadata": {
        "id": "IvAe3nBQS5C9"
      }
    },
    {
      "cell_type": "markdown",
      "source": [
        "## Discussion"
      ],
      "metadata": {
        "id": "rPYWMA6KTNK1"
      }
    },
    {
      "cell_type": "markdown",
      "source": [
        "### NumPy"
      ],
      "metadata": {
        "id": "Ewje6ccUVsAj"
      }
    },
    {
      "cell_type": "markdown",
      "source": [
        "NumPy stands for Numerical Python and is a Python package for scientific computing. It requires a practical multi-dimensional array of objects and a variety of functions for working with them."
      ],
      "metadata": {
        "id": "JYHVBeclXZZW"
      }
    },
    {
      "cell_type": "markdown",
      "source": [
        "Scalars are quantities that can be defined entirely by a single magnitude (or numerical value).\n",
        "\n",
        "Vectors are quantities with a magnitude and a direction that are completely specified."
      ],
      "metadata": {
        "id": "fOQQ6Fv4Yhu2"
      }
    },
    {
      "cell_type": "markdown",
      "source": [
        "#### Representing Vectors"
      ],
      "metadata": {
        "id": "m7GLECvZZdEv"
      }
    },
    {
      "cell_type": "markdown",
      "source": [
        "$$ A = 7\\hat{x} + 6\\hat{y} \\\\\n",
        "B = 9\\hat{x} - 3\\hat{y}\\\\\n",
        "C = 7\\hat{i} + 8\\hat{j} - 4\\hat{k} \\\\\n",
        "D = 6\\hat{i} - 7\\hat{j} + 5\\hat{k}$$"
      ],
      "metadata": {
        "id": "jvgnSUKBZlFX"
      }
    },
    {
      "cell_type": "markdown",
      "source": [
        "In which it's matrix equivalent is:"
      ],
      "metadata": {
        "id": "TgnPtxBwZ_C_"
      }
    },
    {
      "cell_type": "markdown",
      "source": [
        "$$ A = \\begin{bmatrix} 7 \\\\ 6\\end{bmatrix} , B = \\begin{bmatrix} 9 \\\\ -3\\end{bmatrix} , C = \\begin{bmatrix} 7 \\\\ 8 \\\\  -4 \\end{bmatrix}, D = \\begin{bmatrix} 6 \\\\ -7 \\\\ 5\\end{bmatrix}\n",
        "$$\n",
        "$$ A = \\begin{bmatrix} 7 & 6\\end{bmatrix} , B = \\begin{bmatrix} 9 & -3\\end{bmatrix} , C = \\begin{bmatrix} 7 & 8 & -4\\end{bmatrix} , D = \\begin{bmatrix} 6 & -7 & 5\\end{bmatrix} \n",
        "$$"
      ],
      "metadata": {
        "id": "m3NIfuqGaLM6"
      }
    },
    {
      "cell_type": "markdown",
      "source": [
        "We can then start doing numpy code with this by:"
      ],
      "metadata": {
        "id": "pkI-rLT-bKbm"
      }
    },
    {
      "cell_type": "code",
      "source": [
        "import numpy as np"
      ],
      "metadata": {
        "id": "FEF9_nl-bM39"
      },
      "execution_count": 4,
      "outputs": []
    },
    {
      "cell_type": "code",
      "source": [
        "A = np.array([7, 6])\n",
        "B = np.array([9, -3])\n",
        "C = np.array([\n",
        "              [7],\n",
        "              [8],\n",
        "              [-4]\n",
        "])\n",
        "D = np.array ([[6],\n",
        "              [-7],\n",
        "              [5]])\n",
        "print('Vector A is ', A)\n",
        "print('Vector B is ', B)\n",
        "print('Vector C is ', C)\n",
        "print('Vector D is ', D)"
      ],
      "metadata": {
        "id": "YbVWuMj8b3Rv",
        "outputId": "8289f973-860e-42c7-c650-3bda748a5be3",
        "colab": {
          "base_uri": "https://localhost:8080/"
        }
      },
      "execution_count": 5,
      "outputs": [
        {
          "output_type": "stream",
          "name": "stdout",
          "text": [
            "Vector A is  [7 6]\n",
            "Vector B is  [ 9 -3]\n",
            "Vector C is  [[ 7]\n",
            " [ 8]\n",
            " [-4]]\n",
            "Vector D is  [[ 6]\n",
            " [-7]\n",
            " [ 5]]\n"
          ]
        }
      ]
    },
    {
      "cell_type": "markdown",
      "source": [
        "#### Describing vectors in NumPy"
      ],
      "metadata": {
        "id": "V2H3CKxdchpv"
      }
    },
    {
      "cell_type": "markdown",
      "source": [
        "If we intend to execute basic to complex operations using vectors, we must first define them. Knowing the shape, size, and dimensions of vectors are the most basic ways to describe them."
      ],
      "metadata": {
        "id": "90N8tK4Nc3kS"
      }
    },
    {
      "cell_type": "code",
      "source": [
        "### Checking shapes\n",
        "### Shapes tells us how many elements are there on each row and column\n",
        "\n",
        "A.shape\n",
        "L = np.array([4, 9, -8, 6, -2.1, 7])\n",
        "L.shape\n"
      ],
      "metadata": {
        "id": "ReE_aKAtc4Zk",
        "outputId": "ca710ed7-7a06-48fe-c1a8-8d5812a7bb59",
        "colab": {
          "base_uri": "https://localhost:8080/"
        }
      },
      "execution_count": 12,
      "outputs": [
        {
          "output_type": "execute_result",
          "data": {
            "text/plain": [
              "(6,)"
            ]
          },
          "metadata": {},
          "execution_count": 12
        }
      ]
    },
    {
      "cell_type": "code",
      "source": [
        "### Checking size\n",
        "### Array/Vector sizes tells us many total number of elements are there in the vector\n",
        "\n",
        "L.size"
      ],
      "metadata": {
        "id": "IEIJ6LZ5eCb7",
        "outputId": "a3506da1-acc0-4e39-bcd8-ed92bd572bf1",
        "colab": {
          "base_uri": "https://localhost:8080/"
        }
      },
      "execution_count": 13,
      "outputs": [
        {
          "output_type": "execute_result",
          "data": {
            "text/plain": [
              "6"
            ]
          },
          "metadata": {},
          "execution_count": 13
        }
      ]
    },
    {
      "cell_type": "code",
      "source": [
        "### Checking dimensions\n",
        "### The dimensions or rank of a vector tells us how many dimensions are there for the vector.\n",
        "W = np.array([[[4, 9, -8, 6, -2.1, 7]]])\n",
        "W.ndim"
      ],
      "metadata": {
        "id": "7A5gBPvNeCku",
        "outputId": "5e048e6f-2fb4-46f0-994d-69eab87d78f0",
        "colab": {
          "base_uri": "https://localhost:8080/"
        }
      },
      "execution_count": 11,
      "outputs": [
        {
          "output_type": "execute_result",
          "data": {
            "text/plain": [
              "3"
            ]
          },
          "metadata": {},
          "execution_count": 11
        }
      ]
    },
    {
      "cell_type": "markdown",
      "source": [
        "#### Addition"
      ],
      "metadata": {
        "id": "Ir9QKJfPe16s"
      }
    },
    {
      "cell_type": "markdown",
      "source": [
        "The addition rule is straightforward: we simply add the matrices' elements according to their index. In this situation, combining vectors $C$ and $D$ yields the following vector:"
      ],
      "metadata": {
        "id": "ZyzYWMj0e2-i"
      }
    },
    {
      "cell_type": "markdown",
      "source": [
        "$$R = 13\\hat{i}+\\hat{j}+\\hat{k} \\\\ \\\\or \\\\ \\\\ R = \\begin{bmatrix} 13 & 1 & 1\\end{bmatrix} \n",
        "$$"
      ],
      "metadata": {
        "id": "aEUV_c-AfWhX"
      }
    },
    {
      "cell_type": "code",
      "source": [
        "R = np.add(C, D) \n",
        "P = np.add(A, B)"
      ],
      "metadata": {
        "id": "U1WavlEbhvJG"
      },
      "execution_count": 19,
      "outputs": []
    },
    {
      "cell_type": "code",
      "source": [
        "R = C + D\n",
        "\n",
        "R"
      ],
      "metadata": {
        "id": "aXUosSMRieT6",
        "outputId": "fbc86520-4baf-4f6c-adb4-ffe3fb9047ea",
        "colab": {
          "base_uri": "https://localhost:8080/"
        }
      },
      "execution_count": 22,
      "outputs": [
        {
          "output_type": "execute_result",
          "data": {
            "text/plain": [
              "array([[13],\n",
              "       [ 1],\n",
              "       [ 1]])"
            ]
          },
          "metadata": {},
          "execution_count": 22
        }
      ]
    },
    {
      "cell_type": "code",
      "source": [
        "P = A + B   \n",
        "\n",
        "P"
      ],
      "metadata": {
        "id": "6xpTSghgh9ux",
        "outputId": "03665367-b8ef-4a82-bd60-88a39337175e",
        "colab": {
          "base_uri": "https://localhost:8080/"
        }
      },
      "execution_count": 23,
      "outputs": [
        {
          "output_type": "execute_result",
          "data": {
            "text/plain": [
              "array([16,  3])"
            ]
          },
          "metadata": {},
          "execution_count": 23
        }
      ]
    },
    {
      "cell_type": "code",
      "source": [
        "pos1 = np.array([1,2,3])\n",
        "pos2 = np.array([3,-10,13])\n",
        "pos3 = np.array([2,-5,7])\n",
        "pos4 = np.array([4,-0.3,4])\n",
        "R = pos1 + pos2 + pos3 + pos4\n",
        "#R = np.multiply(pos3, pos4)\n",
        "#R = pos2/ pos4\n",
        "R"
      ],
      "metadata": {
        "id": "y_UwXuwXiaw2",
        "outputId": "029be571-4392-4185-9477-6ce4efe73293",
        "colab": {
          "base_uri": "https://localhost:8080/"
        }
      },
      "execution_count": 96,
      "outputs": [
        {
          "output_type": "execute_result",
          "data": {
            "text/plain": [
              "array([ 10. , -13.3,  27. ])"
            ]
          },
          "metadata": {},
          "execution_count": 96
        }
      ]
    },
    {
      "cell_type": "code",
      "source": [
        "pos1 = np.array([1,2,3])\n",
        "pos2 = np.array([3,-10,13])\n",
        "pos3 = np.array([2,-5,7])\n",
        "pos4 = np.array([4,-0.3,4])\n",
        "#R = pos1 + pos2 + pos3 + pos4\n",
        "R = np.multiply(pos3, pos4)\n",
        "#R = pos2 / pos4\n",
        "R"
      ],
      "metadata": {
        "id": "TLkTpNyNjoAB",
        "outputId": "f681b5c2-09e5-40ba-96ab-b2b8173e9496",
        "colab": {
          "base_uri": "https://localhost:8080/"
        }
      },
      "execution_count": 97,
      "outputs": [
        {
          "output_type": "execute_result",
          "data": {
            "text/plain": [
              "array([ 8. ,  1.5, 28. ])"
            ]
          },
          "metadata": {},
          "execution_count": 97
        }
      ]
    },
    {
      "cell_type": "code",
      "source": [
        "pos1 = np.array([1,2,3])\n",
        "pos2 = np.array([3,-10,13])\n",
        "pos3 = np.array([2,-5,7])\n",
        "pos4 = np.array([4,-0.3,4])\n",
        "#R = pos1 + pos2 + pos3 + pos4\n",
        "#R = np.multiply(pos1, pos4)\n",
        "R = pos2 / pos4\n",
        "R"
      ],
      "metadata": {
        "id": "P98GO2S4joKe",
        "outputId": "922ee615-b278-40ba-8e8e-946ccc683c45",
        "colab": {
          "base_uri": "https://localhost:8080/"
        }
      },
      "execution_count": 98,
      "outputs": [
        {
          "output_type": "execute_result",
          "data": {
            "text/plain": [
              "array([ 0.75      , 33.33333333,  3.25      ])"
            ]
          },
          "metadata": {},
          "execution_count": 98
        }
      ]
    },
    {
      "cell_type": "markdown",
      "source": [
        "##### Try for yourself!"
      ],
      "metadata": {
        "id": "RrM_QIh1kZno"
      }
    },
    {
      "cell_type": "markdown",
      "source": [
        "Try to implement subtraction, multiplication, and division with vectors $A$ and $B$!"
      ],
      "metadata": {
        "id": "J7tXztelkdBG"
      }
    },
    {
      "cell_type": "code",
      "source": [
        "### Subtraction\n",
        "J = np.subtract (A,B)\n",
        "\n",
        "J"
      ],
      "metadata": {
        "id": "L1Jv1YcLkjWR",
        "outputId": "6fd3f6f7-45ee-4d9f-8554-ae1e100d1da4",
        "colab": {
          "base_uri": "https://localhost:8080/"
        }
      },
      "execution_count": 32,
      "outputs": [
        {
          "output_type": "execute_result",
          "data": {
            "text/plain": [
              "array([-2,  9])"
            ]
          },
          "metadata": {},
          "execution_count": 32
        }
      ]
    },
    {
      "cell_type": "code",
      "source": [
        "### Multiplication\n",
        "O = np.multiply (A,B)\n",
        "\n",
        "O"
      ],
      "metadata": {
        "id": "BalwTN7EldO6",
        "outputId": "ec58f694-665e-4c8f-9b84-6ee160f58d09",
        "colab": {
          "base_uri": "https://localhost:8080/"
        }
      },
      "execution_count": 33,
      "outputs": [
        {
          "output_type": "execute_result",
          "data": {
            "text/plain": [
              "array([ 63, -18])"
            ]
          },
          "metadata": {},
          "execution_count": 33
        }
      ]
    },
    {
      "cell_type": "code",
      "source": [
        "### Division\n",
        "N = np.divide (A,B)\n",
        "\n",
        "N"
      ],
      "metadata": {
        "id": "oLabbvT1ldwf",
        "outputId": "6f84225e-6ef4-417d-83c7-a0a138fb92b8",
        "colab": {
          "base_uri": "https://localhost:8080/"
        }
      },
      "execution_count": 38,
      "outputs": [
        {
          "output_type": "execute_result",
          "data": {
            "text/plain": [
              "array([ 0.77777778, -2.        ])"
            ]
          },
          "metadata": {},
          "execution_count": 38
        }
      ]
    },
    {
      "cell_type": "markdown",
      "source": [
        "### Scaling"
      ],
      "metadata": {
        "id": "ES74o07zmwZu"
      }
    },
    {
      "cell_type": "markdown",
      "source": [
        "Scaling, also known as scalar multiplication, involves multiplying a scalar value by a vector. Consider the following case:"
      ],
      "metadata": {
        "id": "DhHCf3Svm9py"
      }
    },
    {
      "cell_type": "markdown",
      "source": [
        "$$S = 7 \\cdot B$$"
      ],
      "metadata": {
        "id": "YB2pGVQZnDUr"
      }
    },
    {
      "cell_type": "markdown",
      "source": [
        "We can do this in numpy through:\n"
      ],
      "metadata": {
        "id": "-_o83GqFnT6i"
      }
    },
    {
      "cell_type": "code",
      "source": [
        "#S = 7 * B\n",
        "S = np.multiply(7,B)\n",
        "S"
      ],
      "metadata": {
        "id": "DZq8A_vEnLST",
        "outputId": "6820e6af-3597-4076-f8da-77194f34faab",
        "colab": {
          "base_uri": "https://localhost:8080/"
        }
      },
      "execution_count": 39,
      "outputs": [
        {
          "output_type": "execute_result",
          "data": {
            "text/plain": [
              "array([ 63, -21])"
            ]
          },
          "metadata": {},
          "execution_count": 39
        }
      ]
    },
    {
      "cell_type": "markdown",
      "source": [
        "Try to implement scaling with two vectors."
      ],
      "metadata": {
        "id": "PuAiycVSnj9s"
      }
    },
    {
      "cell_type": "code",
      "source": [
        "###Scaling with two vectors\n",
        "#S = 4 * A\n",
        "#S = 4 * B\n",
        "A = np.array ([7,4])\n",
        "B = np.array ([10,7])\n",
        "S = np.multiply (4,A)\n",
        "S"
      ],
      "metadata": {
        "id": "4-jKJ88ynlPe",
        "outputId": "6c45622f-f685-4c27-df28-ddd679d9a9f9",
        "colab": {
          "base_uri": "https://localhost:8080/"
        }
      },
      "execution_count": 50,
      "outputs": [
        {
          "output_type": "execute_result",
          "data": {
            "text/plain": [
              "array([28, 16])"
            ]
          },
          "metadata": {},
          "execution_count": 50
        }
      ]
    },
    {
      "cell_type": "code",
      "source": [
        "###Scaling with two vectors\n",
        "#S = 4 * A\n",
        "#S = 4 * B\n",
        "A = np.array ([7,4])\n",
        "B = np.array ([10,7])\n",
        "S = np.multiply (4,B)\n",
        "S"
      ],
      "metadata": {
        "id": "csZ0k2jxs45v",
        "outputId": "9ee538e2-9935-4da2-f30f-c28e25072ee7",
        "colab": {
          "base_uri": "https://localhost:8080/"
        }
      },
      "execution_count": 51,
      "outputs": [
        {
          "output_type": "execute_result",
          "data": {
            "text/plain": [
              "array([40, 28])"
            ]
          },
          "metadata": {},
          "execution_count": 51
        }
      ]
    },
    {
      "cell_type": "markdown",
      "source": [
        "### MatPlotLib"
      ],
      "metadata": {
        "id": "Yd082TdftJyo"
      }
    },
    {
      "cell_type": "markdown",
      "source": [
        "MatPlotLib, also known as the MATLab Plotting Library, is Python's version of MATLab's plotting capability. MatPlotLib has a wide range of applications, from grabbing numbers to showing data in several dimensions."
      ],
      "metadata": {
        "id": "1E2NESyWtScF"
      }
    },
    {
      "cell_type": "markdown",
      "source": [
        "#### Visualizing Data"
      ],
      "metadata": {
        "id": "xZWMU3JntbH_"
      }
    },
    {
      "cell_type": "code",
      "source": [
        "import matplotlib.pyplot as plt\n",
        "import matplotlib\n",
        "%matplotlib inline"
      ],
      "metadata": {
        "id": "ZbBwW6Foti0G"
      },
      "execution_count": 7,
      "outputs": []
    },
    {
      "cell_type": "code",
      "source": [
        "A = [7, 4]\n",
        "B = [-4, 3]\n",
        "plt.scatter(A[0], A[1], label='A', c='blue')\n",
        "plt.scatter(B[0], B[1], label='B', c='red')\n",
        "plt.grid()\n",
        "plt.legend()\n",
        "plt.show()"
      ],
      "metadata": {
        "id": "x9hM2rvn1730",
        "outputId": "dc89140d-1d19-47fb-c512-6ee81a8f93f2",
        "colab": {
          "base_uri": "https://localhost:8080/",
          "height": 264
        }
      },
      "execution_count": 8,
      "outputs": [
        {
          "output_type": "display_data",
          "data": {
            "text/plain": [
              "<Figure size 432x288 with 1 Axes>"
            ],
            "image/png": "[encoded data removed]"
          },
          "metadata": {
            "needs_background": "light"
          }
        }
      ]
    },
    {
      "cell_type": "code",
      "source": [
        "A = np.array([2, -3])\n",
        "B = np.array([2, 4])\n",
        "R = A + B\n",
        "Magnitude = np.sqrt(np.sum(R**2))\n",
        "plt.title(\"Resultant Vector\\nMagnitude:{}\" .format(Magnitude))\n",
        "plt.xlim(-4, 4)\n",
        "plt.ylim(-4, 4)\n",
        "plt.quiver(0, 0, A[0], A[1], angles='xy', scale_units='xy', scale=1, color='red')\n",
        "plt.quiver(A[0], A[1], B[0], B[1], angles='xy', scale_units='xy', scale=1, color='green')\n",
        "plt.quiver(0, 0, R[0], R[1], angles='xy', scale_units='xy', scale=1, color='black')\n",
        "plt.grid()\n",
        "plt.show()\n",
        "print(R)\n",
        "print(Magnitude)\n",
        "Slope = R[1]/R[0]\n",
        "print(Slope)\n",
        "Angle = (np.arctan(Slope))*(180/np.pi)\n",
        "print(Angle)"
      ],
      "metadata": {
        "id": "yzjN0eHp2RbO",
        "outputId": "769cc493-320f-46e4-81e4-7a6e3210bdbc",
        "colab": {
          "base_uri": "https://localhost:8080/",
          "height": 365
        }
      },
      "execution_count": 9,
      "outputs": [
        {
          "output_type": "display_data",
          "data": {
            "text/plain": [
              "<Figure size 432x288 with 1 Axes>"
            ],
            "image/png": "[encoded data removed]"
          },
          "metadata": {
            "needs_background": "light"
          }
        },
        {
          "output_type": "stream",
          "name": "stdout",
          "text": [
            "[4 1]\n",
            "4.123105625617661\n",
            "0.25\n",
            "14.036243467926479\n"
          ]
        }
      ]
    },
    {
      "cell_type": "markdown",
      "source": [
        "Try plotting Three Vectors and show the Resultant Vector as a result. Use Head to Tail Method."
      ],
      "metadata": {
        "id": "0KZ9mbyF5-GH"
      }
    },
    {
      "cell_type": "code",
      "source": [
        "### 2x2 vector\n",
        "A = np.array([1.5, -2])\n",
        "B = np.array([1.5, 4])\n",
        "R = A + B\n",
        "Magnitude = np.sqrt(np.sum(R**2))\n",
        "plt.title(\"Resultant Vector\\nMagnitude:{}\" .format(Magnitude))\n",
        "plt.xlim(-4, 4)\n",
        "plt.ylim(-4, 4)\n",
        "plt.quiver(0, 0, A[0], A[1], angles='xy', scale_units='xy', scale=1, color='purple')\n",
        "plt.quiver(A[0], A[1], B[0], B[1], angles='xy', scale_units='xy', scale=1, color='blue')\n",
        "plt.quiver(0, 0, R[0], R[1], angles='xy', scale_units='xy', scale=1, color='grey')\n",
        "plt.grid()\n",
        "plt.show()\n",
        "print(R)\n",
        "print(Magnitude)\n",
        "Slope = R[1]/R[0]\n",
        "print(Slope)\n",
        "Angle = (np.arctan(Slope))*(180/np.pi)\n",
        "print(Angle)"
      ],
      "metadata": {
        "id": "oVDXX2LE6ARr",
        "outputId": "4e6b50c1-69f5-47fa-a638-be48ca2f3ea7",
        "colab": {
          "base_uri": "https://localhost:8080/",
          "height": 365
        }
      },
      "execution_count": 10,
      "outputs": [
        {
          "output_type": "display_data",
          "data": {
            "text/plain": [
              "<Figure size 432x288 with 1 Axes>"
            ],
            "image/png": "[encoded data removed]"
          },
          "metadata": {
            "needs_background": "light"
          }
        },
        {
          "output_type": "stream",
          "name": "stdout",
          "text": [
            "[3. 2.]\n",
            "3.605551275463989\n",
            "0.6666666666666666\n",
            "33.690067525979785\n"
          ]
        }
      ]
    },
    {
      "cell_type": "code",
      "source": [
        "####Three vectors\n",
        "J = np.array([1.3, -4])\n",
        "L = np.array([1.3, 5])\n",
        "W = np.array ([1.3, 3])\n",
        "R = J + L + W\n",
        "Magnitude = np.sqrt(np.sum(R**2))\n",
        "plt.title(\"Resultant Vector\\nMagnitude:{}\" .format(Magnitude))\n",
        "plt.xlim(-4, 4)\n",
        "plt.ylim(-4, 4)\n",
        "plt.quiver(0, 0, J[0], J[1], angles='xy', scale_units='xy', scale=1, color='green')\n",
        "plt.quiver(J[0], J[1], L[0], L[1], angles='xy', scale_units='xy', scale=1, color='blue')\n",
        "plt.quiver(L[0], L[1], W[0], W[1], angles='xy', scale_units='xy', scale=1, color='grey')\n",
        "plt.quiver(0, 0, R[0], R[1], angles='xy', scale_units='xy', scale=1, color='brown')\n",
        "plt.grid()\n",
        "plt.show()\n",
        "print(R)\n",
        "print(Magnitude)\n",
        "Slope = R[1]/R[0]\n",
        "print(Slope)\n",
        "Angle = (np.arctan(Slope))*(180/np.pi)\n",
        "print(Angle)"
      ],
      "metadata": {
        "id": "8O9gLOc99-df",
        "outputId": "5a8f21e6-e107-41e1-a50d-7ea259b84f99",
        "colab": {
          "base_uri": "https://localhost:8080/",
          "height": 365
        }
      },
      "execution_count": 11,
      "outputs": [
        {
          "output_type": "display_data",
          "data": {
            "text/plain": [
              "<Figure size 432x288 with 1 Axes>"
            ],
            "image/png": "[encoded data removed]"
          },
          "metadata": {
            "needs_background": "light"
          }
        },
        {
          "output_type": "stream",
          "name": "stdout",
          "text": [
            "[3.9 4. ]\n",
            "5.586591089385369\n",
            "1.0256410256410255\n",
            "45.72522429905925\n"
          ]
        }
      ]
    }
  ]
}