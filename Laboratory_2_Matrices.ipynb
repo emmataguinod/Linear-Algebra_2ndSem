{
  "nbformat": 4,
  "nbformat_minor": 0,
  "metadata": {
    "colab": {
      "name": "Laboratory 2: Matrices",
      "provenance": [],
      "include_colab_link": true
    },
    "kernelspec": {
      "name": "python3",
      "display_name": "Python 3"
    },
    "language_info": {
      "name": "python"
    }
  },
  "cells": [
    {
      "cell_type": "markdown",
      "metadata": {
        "id": "view-in-github",
        "colab_type": "text"
      },
      "source": [
        "<a href=\"https://colab.research.google.com/github/emmataguinod/Linear-Algebra_2ndSem/blob/main/Laboratory_2_Matrices.ipynb\" target=\"_parent\"><img src=\"https://colab.research.google.com/assets/colab-badge.svg\" alt=\"Open In Colab\"/></a>"
      ]
    },
    {
      "cell_type": "markdown",
      "source": [
        "# Linear Algebra for CHE\n",
        "## Laboratory 2: Matrices"
      ],
      "metadata": {
        "id": "24lGDUybxwmL"
      }
    },
    {
      "cell_type": "markdown",
      "source": [
        "### Objectives\n",
        "At the end of this activity you will be able to\n",
        "1.   Be familiar with matrices and their relation to linear equations.\n",
        "2.   Perform basic matrix operations.\n",
        "3.   Program and translate matrix equations and \n",
        "operations using Python.\n",
        "\n",
        "\n",
        "\n"
      ],
      "metadata": {
        "id": "8hqGv-J6xvyQ"
      }
    },
    {
      "cell_type": "markdown",
      "source": [
        "#Discussion"
      ],
      "metadata": {
        "id": "G9x871h4yxce"
      }
    },
    {
      "cell_type": "code",
      "source": [
        "import numpy as np\n",
        "import matplotlib.pyplot as plt\n",
        "import scipy.linalg as la\n",
        "%matplotlib inline"
      ],
      "metadata": {
        "id": "KqGLHkBny1f0"
      },
      "execution_count": 3,
      "outputs": []
    },
    {
      "cell_type": "markdown",
      "source": [
        "##Matrices"
      ],
      "metadata": {
        "id": "jO32yI7dzMw6"
      }
    },
    {
      "cell_type": "markdown",
      "source": [
        "The notation and use of matrices is probably one of the fundamentals of modern computing. Matrices are also handy representations of complex equations or multiple inter-related equations from 2-dimensional equations to even hundreds and thousands of them. "
      ],
      "metadata": {
        "id": "373uLhvdzRmb"
      }
    },
    {
      "cell_type": "markdown",
      "source": [
        "***A***, ***B***, and ***C*** as system of equation."
      ],
      "metadata": {
        "id": "Ejge3u0ApawJ"
      }
    },
    {
      "cell_type": "markdown",
      "source": [
        "$$\n",
        "A = \\left\\{\n",
        "    \\begin{array}\\\n",
        "        2q + w \\\\ \n",
        "        5q - 20w\n",
        "    \\end{array}\n",
        "\\right. \\\\\n",
        "B = \\left\\{\n",
        "    \\begin{array}\\\n",
        "        q+5w+4r \\\\ \n",
        "        7q + 2w -4r \\\\\n",
        "        -4q - 5w + 12r\n",
        "    \\end{array}\n",
        "\\right. \\\\\n",
        "C = \\left\\{\n",
        "    \\begin{array}\\\n",
        "        13q + 5w + 7r-8t \\\\ \n",
        "        5q -22w -14r + 9t \\\\\n",
        "        9q - 28w  + 18r - 16t\\\\\n",
        "        13q +22w -10r +19t\n",
        "    \\end{array}\n",
        "\\right. $$\n",
        "\n",
        "\n",
        "\n",
        "\n"
      ],
      "metadata": {
        "id": "7kT6TfqWz0bR"
      }
    },
    {
      "cell_type": "markdown",
      "source": [
        "We could see that ***A*** is a system of 2 equations with 2 parameters. ***B*** is a system of 3 equations with 3 parameters. And ***C*** is a system of 4 equations with 4 parameters. We can represent them as matrices:"
      ],
      "metadata": {
        "id": "dgaMmlinpom3"
      }
    },
    {
      "cell_type": "markdown",
      "source": [
        ":$$\n",
        "A=\\begin{bmatrix} 2 & 1 \\\\ 5 & {-20}\\end{bmatrix} \\\\\n",
        "B=\\begin{bmatrix} 1 & 5 & 4 \\\\ 7 & 2 & -4 \\\\ -4 & -5 & 12\\end{bmatrix}\\\\\n",
        "C=\\begin{bmatrix} 13 & 5 & 7 & -8 \\\\ 5 & -22 & -14 & 9 \\\\ 9 & -28 & 18 &-16\\\\ 13 & 22 & -10 & 19 \\end{bmatrix}\n",
        "$$\n"
      ],
      "metadata": {
        "id": "KL9K_1Hj1QmS"
      }
    },
    {
      "cell_type": "markdown",
      "source": [
        "###Declaring Matrices"
      ],
      "metadata": {
        "id": "rFuGIonYrdqz"
      }
    },
    {
      "cell_type": "markdown",
      "source": [
        "The entities or numbers in matrices are called the elements of a matrix. These elements are arranged and ordered in rows and columns which form the list/array-like structure of matrices. And just just like arrays, these elements are indexed according to their position with respect to their rows and columns. This can be represented just like the equation below. Whereas ***A*** is a matrix consisting of elements denoted by **a**i,j*. Denoted by *i* is the number of rows in the matrix while *j* stands for the number of columns.\n",
        "Do note that the size of a matrix is *i x j*."
      ],
      "metadata": {
        "id": "7ZIE9p2_rhD3"
      }
    },
    {
      "cell_type": "markdown",
      "source": [
        "$$A=\\begin{bmatrix}\n",
        "a_{(0,0)}&a_{(0,1)}&\\dots&a_{(0,j-1)}\\\\\n",
        "a_{(1,0)}&a_{(1,1)}&\\dots&a_{(1,j-1)}\\\\\n",
        "\\vdots&\\vdots&\\ddots&\\vdots&\\\\\n",
        "a_{(i-1,0)}&a_{(i-1,1)}&\\dots&a_{(i-1,j-1)}\n",
        "\\end{bmatrix}\n",
        "$$\n"
      ],
      "metadata": {
        "id": "iwKot6cv3qmM"
      }
    },
    {
      "cell_type": "code",
      "source": [
        "## Since we'll keep on describing matrices. Let's make a function.\n",
        "def describe_mat(matrix):\n",
        "    print(f'Matrix:\\n{matrix}\\n\\nshape:\\t{matrix.shape}\\nRank:\\t{matrix.ndim}\\n')"
      ],
      "metadata": {
        "id": "0uFSNL4AzP99"
      },
      "execution_count": 1,
      "outputs": []
    },
    {
      "cell_type": "code",
      "source": [
        "## Declaring a 2 x 2 matrix\n",
        "A = np.array([\n",
        "    [3, 8],\n",
        "    [12, 4]\n",
        "])\n",
        "describe_mat(A)"
      ],
      "metadata": {
        "colab": {
          "base_uri": "https://localhost:8080/"
        },
        "id": "ukptj7ll4mHo",
        "outputId": "ef6b4f40-85e9-4020-fba0-e0d3232d1fa9"
      },
      "execution_count": 4,
      "outputs": [
        {
          "output_type": "stream",
          "name": "stdout",
          "text": [
            "Matrix:\n",
            "[[ 3  8]\n",
            " [12  4]]\n",
            "\n",
            "shape:\t(2, 2)\n",
            "Rank:\t2\n",
            "\n"
          ]
        }
      ]
    },
    {
      "cell_type": "code",
      "source": [
        "## Declaring a 2 x 3 matrix\n",
        "G = np.array([\n",
        "    [5, 4, 7],\n",
        "    [23, 11, 34]\n",
        "])\n",
        "describe_mat(G)"
      ],
      "metadata": {
        "colab": {
          "base_uri": "https://localhost:8080/"
        },
        "id": "ujjGXptG6Eg5",
        "outputId": "5f158f2e-75f1-4d78-f435-df2a5a1bc08c"
      },
      "execution_count": 5,
      "outputs": [
        {
          "output_type": "stream",
          "name": "stdout",
          "text": [
            "Matrix:\n",
            "[[ 5  4  7]\n",
            " [23 11 34]]\n",
            "\n",
            "shape:\t(2, 3)\n",
            "Rank:\t2\n",
            "\n"
          ]
        }
      ]
    },
    {
      "cell_type": "code",
      "source": [
        "## Declaring a 3 x 2 matrix\n",
        "H = np.array([\n",
        "    [7, 8],\n",
        "    [15, 21],\n",
        "    [9, 18]\n",
        "])\n",
        "describe_mat(H)"
      ],
      "metadata": {
        "id": "uBVm5S126Z3M",
        "colab": {
          "base_uri": "https://localhost:8080/"
        },
        "outputId": "4c8ef980-0e36-484f-ac93-cb3817118eca"
      },
      "execution_count": 6,
      "outputs": [
        {
          "output_type": "stream",
          "name": "stdout",
          "text": [
            "Matrix:\n",
            "[[ 7  8]\n",
            " [15 21]\n",
            " [ 9 18]]\n",
            "\n",
            "shape:\t(3, 2)\n",
            "Rank:\t2\n",
            "\n"
          ]
        }
      ]
    },
    {
      "cell_type": "code",
      "source": [
        "L = np.array([9,7,5,6,12,17,19])\n",
        "describe_mat(L)"
      ],
      "metadata": {
        "id": "EooNcL5l6aPZ",
        "colab": {
          "base_uri": "https://localhost:8080/"
        },
        "outputId": "9eefc60d-c178-45ae-9ead-27d29bf8d21b"
      },
      "execution_count": 7,
      "outputs": [
        {
          "output_type": "stream",
          "name": "stdout",
          "text": [
            "Matrix:\n",
            "[ 9  7  5  6 12 17 19]\n",
            "\n",
            "shape:\t(7,)\n",
            "Rank:\t1\n",
            "\n"
          ]
        }
      ]
    },
    {
      "cell_type": "markdown",
      "source": [
        "##Categorizing Matrices "
      ],
      "metadata": {
        "id": "aux_aV1JE9cI"
      }
    },
    {
      "cell_type": "markdown",
      "source": [
        "There are several ways of classifying matrices. One could be \n",
        "according to their **shape** and another is according to their element values. We'll try to go through them."
      ],
      "metadata": {
        "id": "d1XHFYoEFCvJ"
      }
    },
    {
      "cell_type": "markdown",
      "source": [
        "###According to shape"
      ],
      "metadata": {
        "id": "23OdUiBAFU-B"
      }
    },
    {
      "cell_type": "markdown",
      "source": [
        "According to shape - it defines the number of rows and columns of the specific matrix"
      ],
      "metadata": {
        "id": "Evllj0b1sUqk"
      }
    },
    {
      "cell_type": "markdown",
      "source": [
        "###Row and Column Matrices"
      ],
      "metadata": {
        "id": "1KHRp9_2FbjI"
      }
    },
    {
      "cell_type": "markdown",
      "source": [
        "A 1-by-n matrix (a single row) is a row matrix, while an n-by-1 matrix is a column matrix (a single column). The terms \"row and column matrices\" and \"row and column vectors\" are interchangeable."
      ],
      "metadata": {
        "id": "-WMqUCxmG1M5"
      }
    },
    {
      "cell_type": "code",
      "source": [
        "## Declaring a Row Matrix\n",
        "\n",
        "row_mat_1D = np.array([\n",
        "     4, 5, 6, 8, 9                  \n",
        "]) ## this is a 1-D Matrix with a shape of (5,), it's not really considered as a row matrix.\n",
        "row_mat_2D = np.array([\n",
        "     [4, 5, 6, 8, 9]                  \n",
        "]) ## this is a 2-D Matrix with a shape of (1, 5)\n",
        "describe_mat(row_mat_1D)\n",
        "describe_mat(row_mat_2D)"
      ],
      "metadata": {
        "colab": {
          "base_uri": "https://localhost:8080/"
        },
        "id": "4bCE50F6G98s",
        "outputId": "311c7e54-ba31-4cc2-d8ad-97900d380c64"
      },
      "execution_count": 8,
      "outputs": [
        {
          "output_type": "stream",
          "name": "stdout",
          "text": [
            "Matrix:\n",
            "[4 5 6 8 9]\n",
            "\n",
            "shape:\t(5,)\n",
            "Rank:\t1\n",
            "\n",
            "Matrix:\n",
            "[[4 5 6 8 9]]\n",
            "\n",
            "shape:\t(1, 5)\n",
            "Rank:\t2\n",
            "\n"
          ]
        }
      ]
    },
    {
      "cell_type": "code",
      "source": [
        "## Declaring a Column Matrix\n",
        "\n",
        "col_mat =np.array([\n",
        "     [3], \n",
        "     [6],\n",
        "     [14],\n",
        "     [15],\n",
        "     [9],\n",
        "     [4]             \n",
        "]) ## this is a 2-D Matrix with a shape of (6,1)\n",
        "describe_mat(col_mat)"
      ],
      "metadata": {
        "colab": {
          "base_uri": "https://localhost:8080/"
        },
        "id": "NXNS3bV0JAC-",
        "outputId": "5ce8ce6e-90c8-40b8-b77b-4fe97bebabb1"
      },
      "execution_count": 9,
      "outputs": [
        {
          "output_type": "stream",
          "name": "stdout",
          "text": [
            "Matrix:\n",
            "[[ 3]\n",
            " [ 6]\n",
            " [14]\n",
            " [15]\n",
            " [ 9]\n",
            " [ 4]]\n",
            "\n",
            "shape:\t(6, 1)\n",
            "Rank:\t2\n",
            "\n"
          ]
        }
      ]
    },
    {
      "cell_type": "markdown",
      "source": [
        "##Square Matrices"
      ],
      "metadata": {
        "id": "06pCXyGs90ma"
      }
    },
    {
      "cell_type": "markdown",
      "source": [
        "A square matrix is a matrix with the exact number of components as its name suggests. Its order is of the form n x n since it contains an equal number of rows and columns. All matrix operations such as transpose, determinant, adjoint, and inverse and matrices' mathematical operations apply to a square matrix."
      ],
      "metadata": {
        "id": "bTNf1TCDKNJA"
      }
    },
    {
      "cell_type": "code",
      "source": [
        "def describe_mat(matrix):\n",
        "    is_square = True if matrix.shape[0] == matrix.shape[1] else False\n",
        "    print(f'Matrix:\\n{matrix}\\n\\nshape:\\t{matrix.shape}\\nRank:\\t{matrix.ndim}\\nIs Square: {is_square}\\n')"
      ],
      "metadata": {
        "id": "sZL6K3tb96vM"
      },
      "execution_count": null,
      "outputs": []
    },
    {
      "cell_type": "code",
      "source": [
        "square_mat = np.array([\n",
        "   [2,4,6],\n",
        "   [5,7,8],  \n",
        "   [4,2,9]            \n",
        "])\n",
        "\n",
        "non_square_mat = np.array([\n",
        "   [2,4,6],    \n",
        "   [5,7,8]                    \n",
        "])\n",
        "describe_mat(square_mat)\n",
        "describe_mat(non_square_mat)"
      ],
      "metadata": {
        "colab": {
          "base_uri": "https://localhost:8080/"
        },
        "id": "Bb8q_uFy-tKV",
        "outputId": "dd1b1c40-fc7e-44c3-d46d-07f5a4ff8fb0"
      },
      "execution_count": null,
      "outputs": [
        {
          "output_type": "stream",
          "name": "stdout",
          "text": [
            "Matrix:\n",
            "[[2 4 6]\n",
            " [5 7 8]\n",
            " [4 2 9]]\n",
            "\n",
            "shape:\t(3, 3)\n",
            "Rank:\t2\n",
            "Is Square: True\n",
            "\n",
            "Matrix:\n",
            "[[2 4 6]\n",
            " [5 7 8]]\n",
            "\n",
            "shape:\t(2, 3)\n",
            "Rank:\t2\n",
            "Is Square: False\n",
            "\n"
          ]
        }
      ]
    },
    {
      "cell_type": "markdown",
      "source": [
        "# According to element values"
      ],
      "metadata": {
        "id": "8bcBgnABBEp7"
      }
    },
    {
      "cell_type": "markdown",
      "source": [
        "According to element values - it defines what kind of matrix it will be, it can be square, null, zero, ones, diagonal, identity, upper triangular, and lower triangular matrix."
      ],
      "metadata": {
        "id": "em3WRjIqwUOm"
      }
    },
    {
      "cell_type": "markdown",
      "source": [
        "##Null Matrix"
      ],
      "metadata": {
        "id": "9tma8BjxBOSu"
      }
    },
    {
      "cell_type": "markdown",
      "source": [
        "A Null Matrix is a matrix in which each element is none. The null matrix, often known as a zero matrix, has a variable number of rows and columns. Because adding a null matrix to any other matrix produces the same outcome, a null matrix is also known as the additive identity of the provided matrix."
      ],
      "metadata": {
        "id": "sEufLMHiL0qI"
      }
    },
    {
      "cell_type": "code",
      "source": [
        "def describe_mat(matrix):\n",
        "  if matrix.size > 0:\n",
        "     is_square = True if matrix.shape[0] == matrix.shape[1] else False\n",
        "     print(f'Matrix:\\n{matrix}\\n\\nshape:\\t{matrix.shape}\\nRank:\\t{matrix.ndim}\\nIs Square: {is_square}\\n')\n",
        "  else:\n",
        "    print('Matrix is Null')"
      ],
      "metadata": {
        "id": "lKYhGfck-sNz"
      },
      "execution_count": null,
      "outputs": []
    },
    {
      "cell_type": "code",
      "source": [
        "null_mat = np.array([])\n",
        "describe_mat(null_mat)"
      ],
      "metadata": {
        "colab": {
          "base_uri": "https://localhost:8080/"
        },
        "id": "00k1EILCB1Ut",
        "outputId": "b9bf44ba-5866-48ef-a3f6-dc4b28b39fa8"
      },
      "execution_count": null,
      "outputs": [
        {
          "output_type": "stream",
          "name": "stdout",
          "text": [
            "Matrix:\n",
            "[]\n",
            "\n",
            "shape:\t(0,)\n",
            "Rank:\t1\n",
            "\n"
          ]
        }
      ]
    },
    {
      "cell_type": "markdown",
      "source": [
        "##Zero Matrix"
      ],
      "metadata": {
        "id": "3VDFFJ51B_rQ"
      }
    },
    {
      "cell_type": "markdown",
      "source": [
        "A zero matrix is one in which most elements are equal to zero. A zero matrix is represented by 0, and if necessary, a subscript can be applied to specify the matrix's dimensions. Zero matrices play a similar role in matrices operations as zero does in real-number operations."
      ],
      "metadata": {
        "id": "VztkT-SpNQBm"
      }
    },
    {
      "cell_type": "code",
      "source": [
        "zero_mat_row = np.zeros((3, 3))\n",
        "zero_mat_sqr = np.zeros((2, 4))\n",
        "zero_mat_rct = np.zeros((3, 4))\n",
        "\n",
        "print(f'Zero Row Matrix: \\n{zero_mat_row}')\n",
        "print(f'Zero Square Matrix: \\n{zero_mat_sqr}')\n",
        "print(f'Zero Rectangular Matrix: \\n{zero_mat_rct}')"
      ],
      "metadata": {
        "colab": {
          "base_uri": "https://localhost:8080/"
        },
        "id": "j828arujCDW1",
        "outputId": "ec9fe815-f16b-48de-fffe-5ca51e20ec71"
      },
      "execution_count": null,
      "outputs": [
        {
          "output_type": "stream",
          "name": "stdout",
          "text": [
            "Zero Row Matrix: \n",
            "[[0. 0. 0.]\n",
            " [0. 0. 0.]\n",
            " [0. 0. 0.]]\n",
            "Zero Square Matrix: \n",
            "[[0. 0. 0. 0.]\n",
            " [0. 0. 0. 0.]]\n",
            "Zero Rectangular Matrix: \n",
            "[[0. 0. 0. 0.]\n",
            " [0. 0. 0. 0.]\n",
            " [0. 0. 0. 0.]]\n"
          ]
        }
      ]
    },
    {
      "cell_type": "markdown",
      "source": [
        "##Ones Matrix"
      ],
      "metadata": {
        "id": "9oMGzHO_DItV"
      }
    },
    {
      "cell_type": "markdown",
      "source": [
        "A matrix of ones, also known as an all-ones matrix, is a matrix in which all of the elements are equal to one."
      ],
      "metadata": {
        "id": "6fDwSLMOOjM8"
      }
    },
    {
      "cell_type": "code",
      "source": [
        "ones_mat_row = np.ones((4, 2))\n",
        "ones_mat_sqr = np.ones((2, 4))\n",
        "ones_mat_rct = np.ones((3, 3))\n",
        "\n",
        "print(f'Ones Row Matrix: \\n{ones_mat_row}')\n",
        "print(f'Ones Square Matrix: \\n{ones_mat_sqr}')\n",
        "print(f'Ones Rectangular Matrix: \\n{ones_mat_rct}')"
      ],
      "metadata": {
        "colab": {
          "base_uri": "https://localhost:8080/"
        },
        "id": "X4g-CFNvDLFB",
        "outputId": "1df6dc8e-3fe9-42d0-f82a-a2851fabf551"
      },
      "execution_count": null,
      "outputs": [
        {
          "output_type": "stream",
          "name": "stdout",
          "text": [
            "Ones Row Matrix: \n",
            "[[1. 1.]\n",
            " [1. 1.]\n",
            " [1. 1.]\n",
            " [1. 1.]]\n",
            "Ones Square Matrix: \n",
            "[[1. 1. 1. 1.]\n",
            " [1. 1. 1. 1.]]\n",
            "Ones Rectangular Matrix: \n",
            "[[1. 1. 1.]\n",
            " [1. 1. 1.]\n",
            " [1. 1. 1.]]\n"
          ]
        }
      ]
    },
    {
      "cell_type": "markdown",
      "source": [
        "##Diagonal Matrix"
      ],
      "metadata": {
        "id": "avElX0mpErT4"
      }
    },
    {
      "cell_type": "markdown",
      "source": [
        "A diagonal matrix has both upper and bottom triangle elements. The name \"diagonal matrix\" comes from all the entries above and below the principal diagonal are zeros."
      ],
      "metadata": {
        "id": "1ouu_FP3P0v6"
      }
    },
    {
      "cell_type": "code",
      "source": [
        "np.array([\n",
        "   [4,0,0,0],\n",
        "   [0,6,0,0],\n",
        "   [0,0,7,0],\n",
        "   [0,0,0,2]       \n",
        "])"
      ],
      "metadata": {
        "colab": {
          "base_uri": "https://localhost:8080/"
        },
        "id": "woDGBAEpFXsF",
        "outputId": "ab4cdc51-c3cb-4f28-efd0-58c3fb2aadd4"
      },
      "execution_count": null,
      "outputs": [
        {
          "output_type": "execute_result",
          "data": {
            "text/plain": [
              "array([[4, 0, 0, 0],\n",
              "       [0, 6, 0, 0],\n",
              "       [0, 0, 7, 0],\n",
              "       [0, 0, 0, 2]])"
            ]
          },
          "metadata": {},
          "execution_count": 25
        }
      ]
    },
    {
      "cell_type": "code",
      "source": [
        "w= np.diag([4,6,7,2])\n",
        "w.shape[0] == w.shape[1]\n",
        "w"
      ],
      "metadata": {
        "colab": {
          "base_uri": "https://localhost:8080/"
        },
        "id": "wZk3UY6WEnqY",
        "outputId": "06eb37d2-bf28-4b4a-8300-b87f01a8320a"
      },
      "execution_count": null,
      "outputs": [
        {
          "output_type": "execute_result",
          "data": {
            "text/plain": [
              "array([[4, 0, 0, 0],\n",
              "       [0, 6, 0, 0],\n",
              "       [0, 0, 7, 0],\n",
              "       [0, 0, 0, 2]])"
            ]
          },
          "metadata": {},
          "execution_count": 28
        }
      ]
    },
    {
      "cell_type": "code",
      "source": [
        "w= np.diag([4,6,7,2])\n",
        "np.diag(w).shape == w.shape[1] == w.shape[4]"
      ],
      "metadata": {
        "colab": {
          "base_uri": "https://localhost:8080/"
        },
        "id": "h52siSNqQ-O_",
        "outputId": "06ca4d64-74ed-4887-8f33-d1f01d710cfc"
      },
      "execution_count": null,
      "outputs": [
        {
          "output_type": "execute_result",
          "data": {
            "text/plain": [
              "False"
            ]
          },
          "metadata": {},
          "execution_count": 33
        }
      ]
    },
    {
      "cell_type": "markdown",
      "source": [
        "##Identity Matrix"
      ],
      "metadata": {
        "id": "Qquck5YKF4X7"
      }
    },
    {
      "cell_type": "markdown",
      "source": [
        "An identity matrix is a square matrix for all primary diagonal elements and zeros for all other elements. The letter \"In\" or simply \"I\" is used to indicate it. The result of multiplying any matrix by the identity matrix is the provided matrix."
      ],
      "metadata": {
        "id": "znDPdbiqQy_K"
      }
    },
    {
      "cell_type": "code",
      "source": [
        "np.eye(8)"
      ],
      "metadata": {
        "colab": {
          "base_uri": "https://localhost:8080/"
        },
        "id": "IdI6VRV_F9Hq",
        "outputId": "7f8cad93-c513-4b1a-c1c7-96f962dfe405"
      },
      "execution_count": null,
      "outputs": [
        {
          "output_type": "execute_result",
          "data": {
            "text/plain": [
              "array([[1., 0., 0., 0., 0., 0., 0., 0.],\n",
              "       [0., 1., 0., 0., 0., 0., 0., 0.],\n",
              "       [0., 0., 1., 0., 0., 0., 0., 0.],\n",
              "       [0., 0., 0., 1., 0., 0., 0., 0.],\n",
              "       [0., 0., 0., 0., 1., 0., 0., 0.],\n",
              "       [0., 0., 0., 0., 0., 1., 0., 0.],\n",
              "       [0., 0., 0., 0., 0., 0., 1., 0.],\n",
              "       [0., 0., 0., 0., 0., 0., 0., 1.]])"
            ]
          },
          "metadata": {},
          "execution_count": 34
        }
      ]
    },
    {
      "cell_type": "code",
      "source": [
        "np.identity(7)"
      ],
      "metadata": {
        "colab": {
          "base_uri": "https://localhost:8080/"
        },
        "id": "iYecWFGZGGxG",
        "outputId": "f30c4344-b3cc-4caa-b63d-ee64919d5b98"
      },
      "execution_count": null,
      "outputs": [
        {
          "output_type": "execute_result",
          "data": {
            "text/plain": [
              "array([[1., 0., 0., 0., 0., 0., 0.],\n",
              "       [0., 1., 0., 0., 0., 0., 0.],\n",
              "       [0., 0., 1., 0., 0., 0., 0.],\n",
              "       [0., 0., 0., 1., 0., 0., 0.],\n",
              "       [0., 0., 0., 0., 1., 0., 0.],\n",
              "       [0., 0., 0., 0., 0., 1., 0.],\n",
              "       [0., 0., 0., 0., 0., 0., 1.]])"
            ]
          },
          "metadata": {},
          "execution_count": 35
        }
      ]
    },
    {
      "cell_type": "markdown",
      "source": [
        "##Upper Triangular Matrix"
      ],
      "metadata": {
        "id": "O64x6d6gGeM7"
      }
    },
    {
      "cell_type": "markdown",
      "source": [
        "All of the entries below the main diagonal are zero in the upper triangular matrix."
      ],
      "metadata": {
        "id": "cyI6PtZESI75"
      }
    },
    {
      "cell_type": "code",
      "source": [
        "np.array([\n",
        "   [3,4,5,6],\n",
        "   [0,6,7,8],\n",
        "   [0,0,3,4],\n",
        "   [0,0,0, 4]      \n",
        "])"
      ],
      "metadata": {
        "colab": {
          "base_uri": "https://localhost:8080/"
        },
        "id": "4KYBg29CGh0i",
        "outputId": "3c1f8ffd-09d8-4daf-f0f9-26de6763c87e"
      },
      "execution_count": null,
      "outputs": [
        {
          "output_type": "execute_result",
          "data": {
            "text/plain": [
              "array([[3, 4, 5, 6],\n",
              "       [0, 6, 7, 8],\n",
              "       [0, 0, 3, 4],\n",
              "       [0, 0, 0, 4]])"
            ]
          },
          "metadata": {},
          "execution_count": 36
        }
      ]
    },
    {
      "cell_type": "markdown",
      "source": [
        "##Lower Triangular Matrix"
      ],
      "metadata": {
        "id": "AqeevGPpG88M"
      }
    },
    {
      "cell_type": "markdown",
      "source": [
        "All of the entries above the main diagonal are zero in the lower triangular matrix."
      ],
      "metadata": {
        "id": "9yN4JJBUHhn0"
      }
    },
    {
      "cell_type": "code",
      "source": [
        "np.array([\n",
        "   [3,0,0,0,],\n",
        "   [4,4,0,0],\n",
        "   [5,2,3,0],\n",
        "   [1,3,7, 4]      \n",
        "])"
      ],
      "metadata": {
        "colab": {
          "base_uri": "https://localhost:8080/"
        },
        "id": "07Zcc842HANm",
        "outputId": "0017e76f-cf51-4143-beb2-3af271991e88"
      },
      "execution_count": null,
      "outputs": [
        {
          "output_type": "execute_result",
          "data": {
            "text/plain": [
              "array([[3, 0, 0, 0],\n",
              "       [4, 4, 0, 0],\n",
              "       [5, 2, 3, 0],\n",
              "       [1, 3, 7, 4]])"
            ]
          },
          "metadata": {},
          "execution_count": 38
        }
      ]
    },
    {
      "cell_type": "markdown",
      "source": [
        "##Practice"
      ],
      "metadata": {
        "id": "FPpyT3WiHbtm"
      }
    },
    {
      "cell_type": "markdown",
      "source": [
        "1. Given the linear combination below, try to create a corresponding matrix representing it.\n",
        "\n",
        "\n",
        "$$\\theta = 7w + 4q - 5z - 12p$$\n"
      ],
      "metadata": {
        "id": "oitLIbkUHfxa"
      }
    },
    {
      "cell_type": "markdown",
      "source": [
        "2. Given he system of linear combinations below, try to encode it as a matrix. Also describe the matrix.\n",
        "\n",
        "\n",
        "$$\n",
        "A = \\left\\{\\begin{array}\n",
        "5w_1 + 4w_2 +7w_3\\\\\n",
        "6w_2 - 8w_3\\\\\n",
        "12w_3\n",
        "\\end{array}\\right.\n",
        "$$\n",
        "\n"
      ],
      "metadata": {
        "id": "ZjVfl4G4Hl8n"
      }
    },
    {
      "cell_type": "markdown",
      "source": [
        "3. Given the matrix below, express it as a linear combination in a markdown and a LaTeX markdown\n"
      ],
      "metadata": {
        "id": "CKxhA78DIS54"
      }
    },
    {
      "cell_type": "code",
      "source": [
        "G = np.array([\n",
        "    [1,4,7],\n",
        "    [6,-8,2],\n",
        "    [5,6,7]\n",
        "])\n"
      ],
      "metadata": {
        "id": "v6e3XAbNIxZ4"
      },
      "execution_count": 231,
      "outputs": []
    },
    {
      "cell_type": "markdown",
      "source": [
        "$$\n",
        "A = \\left\\{\\begin{array}\n",
        "5w_1 + 4w_2 +7w_3\\\\\n",
        "6w_1 - 8w_2 + 2w_3\\\\\n",
        "5w1_ + 6w_2 + 7w_3 \n",
        "\\end{array}\\right.\n",
        "$$"
      ],
      "metadata": {
        "id": "bSNUnv2rUZ3e"
      }
    },
    {
      "cell_type": "markdown",
      "source": [
        "4. Given the matrix below, display the output as a LaTeX markdown also express it as a system of linear combinations.\n"
      ],
      "metadata": {
        "id": "8fjCAOTFI12V"
      }
    },
    {
      "cell_type": "code",
      "source": [
        "H = np.tril(G)\n",
        "H\n"
      ],
      "metadata": {
        "colab": {
          "base_uri": "https://localhost:8080/"
        },
        "id": "SdpMJOYjIJz7",
        "outputId": "a261e238-9666-42f3-d2ff-72832214a906"
      },
      "execution_count": 232,
      "outputs": [
        {
          "output_type": "execute_result",
          "data": {
            "text/plain": [
              "array([[ 1,  0,  0],\n",
              "       [ 6, -8,  0],\n",
              "       [ 5,  6,  7]])"
            ]
          },
          "metadata": {},
          "execution_count": 232
        }
      ]
    },
    {
      "cell_type": "code",
      "source": [
        "I =np.triu(G)\n",
        "I"
      ],
      "metadata": {
        "colab": {
          "base_uri": "https://localhost:8080/"
        },
        "id": "YObuIPQLJCz-",
        "outputId": "32fbe093-5bb8-47a8-a6f3-94d9d4bc5a04"
      },
      "execution_count": 233,
      "outputs": [
        {
          "output_type": "execute_result",
          "data": {
            "text/plain": [
              "array([[ 1,  4,  7],\n",
              "       [ 0, -8,  2],\n",
              "       [ 0,  0,  7]])"
            ]
          },
          "metadata": {},
          "execution_count": 233
        }
      ]
    },
    {
      "cell_type": "markdown",
      "source": [
        "##Matrix Algebra"
      ],
      "metadata": {
        "id": "USnZ3UUGJLh_"
      }
    },
    {
      "cell_type": "markdown",
      "source": [
        "Matrix algebra is used to display graphs, calculate statistics, and conduct scientific investigations and research in various domains. Matrices may also be used to represent real-world information such as population, infant mortality rate, etc. For charting surveys, these are the finest representation approaches."
      ],
      "metadata": {
        "id": "3TNhi9w4MRQ1"
      }
    },
    {
      "cell_type": "markdown",
      "source": [
        "##Addition"
      ],
      "metadata": {
        "id": "TpeYD18kKF9Z"
      }
    },
    {
      "cell_type": "markdown",
      "source": [
        "The operation of combining the entries of two matrices is known as matrix addition."
      ],
      "metadata": {
        "id": "fMcogIi3V0dZ"
      }
    },
    {
      "cell_type": "code",
      "source": [
        "A = np.array([\n",
        "    [2,3],     \n",
        "    [4,5],\n",
        "    [7,2]\n",
        "])\n",
        "B = np.array([\n",
        "    [7,3],     \n",
        "    [4,8],\n",
        "    [3,3]      \n",
        "])\n",
        "A+B"
      ],
      "metadata": {
        "colab": {
          "base_uri": "https://localhost:8080/"
        },
        "id": "_zALkgQLJOXh",
        "outputId": "0b2e67f5-58f5-463c-bc22-02061fb43208"
      },
      "execution_count": 230,
      "outputs": [
        {
          "output_type": "execute_result",
          "data": {
            "text/plain": [
              "array([[ 9,  6],\n",
              "       [ 8, 13],\n",
              "       [10,  5]])"
            ]
          },
          "metadata": {},
          "execution_count": 230
        }
      ]
    },
    {
      "cell_type": "code",
      "source": [
        "4+A ##Broadcasting\n",
        "# 2*np.ones(A.shape)+A"
      ],
      "metadata": {
        "id": "3enlyrnQJw51",
        "colab": {
          "base_uri": "https://localhost:8080/"
        },
        "outputId": "eeed97e2-8d50-4115-9356-78843d8c0676"
      },
      "execution_count": null,
      "outputs": [
        {
          "output_type": "execute_result",
          "data": {
            "text/plain": [
              "array([[ 6,  7],\n",
              "       [ 8,  9],\n",
              "       [11,  6]])"
            ]
          },
          "metadata": {},
          "execution_count": 43
        }
      ]
    },
    {
      "cell_type": "markdown",
      "source": [
        "##Subtraction\n"
      ],
      "metadata": {
        "id": "vx8mxPLGJ6TL"
      }
    },
    {
      "cell_type": "markdown",
      "source": [
        "Subtraction between two matrices is achievable if their order or dimensions are the same. To subtract two or more matrices, they must have the same number of rows and columns."
      ],
      "metadata": {
        "id": "7WTAFIPyWEP9"
      }
    },
    {
      "cell_type": "code",
      "source": [
        "A-B"
      ],
      "metadata": {
        "colab": {
          "base_uri": "https://localhost:8080/"
        },
        "id": "KvlSEc1mXvHh",
        "outputId": "c4657312-7ff1-46c7-aad7-af4fdd922949"
      },
      "execution_count": null,
      "outputs": [
        {
          "output_type": "execute_result",
          "data": {
            "text/plain": [
              "array([[-5,  0],\n",
              "       [ 0, -3],\n",
              "       [ 4, -1]])"
            ]
          },
          "metadata": {},
          "execution_count": 44
        }
      ]
    },
    {
      "cell_type": "code",
      "source": [
        "5-B"
      ],
      "metadata": {
        "colab": {
          "base_uri": "https://localhost:8080/"
        },
        "id": "LH9JT3P5YGCw",
        "outputId": "cf032cc0-0245-43ea-f540-3c96dde3878d"
      },
      "execution_count": null,
      "outputs": [
        {
          "output_type": "execute_result",
          "data": {
            "text/plain": [
              "array([[-2,  2],\n",
              "       [ 1, -3],\n",
              "       [ 2,  2]])"
            ]
          },
          "metadata": {},
          "execution_count": 47
        }
      ]
    },
    {
      "cell_type": "code",
      "source": [
        "5-B == 5*np.ones(B.shape)-B"
      ],
      "metadata": {
        "colab": {
          "base_uri": "https://localhost:8080/"
        },
        "id": "eQ56oDcSX2KC",
        "outputId": "715ec066-553b-4977-c819-1d98029629f6"
      },
      "execution_count": null,
      "outputs": [
        {
          "output_type": "execute_result",
          "data": {
            "text/plain": [
              "array([[ True,  True],\n",
              "       [ True,  True],\n",
              "       [ True,  True]])"
            ]
          },
          "metadata": {},
          "execution_count": 46
        }
      ]
    },
    {
      "cell_type": "markdown",
      "source": [
        "##Element-wise Multiplication"
      ],
      "metadata": {
        "id": "Ff9haW3VKKEE"
      }
    },
    {
      "cell_type": "markdown",
      "source": [
        "Element-wise Multiplication is an operation of multiplying two numbers but only for its corresponding element."
      ],
      "metadata": {
        "id": "UM1S6WKoWT-V"
      }
    },
    {
      "cell_type": "code",
      "source": [
        "A*B\n",
        "np.multiply(A,B)"
      ],
      "metadata": {
        "id": "PUYfrjrlKTIT",
        "colab": {
          "base_uri": "https://localhost:8080/"
        },
        "outputId": "27d461bf-b33f-4b25-e582-46dbd2e0e583"
      },
      "execution_count": null,
      "outputs": [
        {
          "output_type": "execute_result",
          "data": {
            "text/plain": [
              "array([[14,  9],\n",
              "       [16, 40],\n",
              "       [21,  6]])"
            ]
          },
          "metadata": {},
          "execution_count": 48
        }
      ]
    },
    {
      "cell_type": "code",
      "source": [
        "3*B"
      ],
      "metadata": {
        "colab": {
          "base_uri": "https://localhost:8080/"
        },
        "id": "yiPTHoJeYaiz",
        "outputId": "d6f9282d-6aee-44ab-9760-40418cbb37dc"
      },
      "execution_count": null,
      "outputs": [
        {
          "output_type": "execute_result",
          "data": {
            "text/plain": [
              "array([[21,  9],\n",
              "       [12, 24],\n",
              "       [ 9,  9]])"
            ]
          },
          "metadata": {},
          "execution_count": 49
        }
      ]
    },
    {
      "cell_type": "markdown",
      "source": [
        "##Activity"
      ],
      "metadata": {
        "id": "n5pZXtcjYn_p"
      }
    },
    {
      "cell_type": "markdown",
      "source": [
        "Task 1\n"
      ],
      "metadata": {
        "id": "ufzpqsrTYqut"
      }
    },
    {
      "cell_type": "code",
      "source": [
        "def mat_desc (matrix):\n",
        "  if matrix.size > 0:\n",
        "    if matrix.shape [0] == matrix.shape[1]:\n",
        "      m = \"Square.\"\n",
        "    else:\n",
        "      m = \"Non-square.\"\n",
        "    if np.all(matrix == np.identity(matrix.shape[0])):\n",
        "      mp = \"Identity Matrix.\"\n",
        "    elif np.all(matrix == np.zeros(matrix.shape)):\n",
        "      mp = \"Zero Matrix.\"\n",
        "    elif np.all(matrix == np.ones(matrix.shape)):\n",
        "      mp = \"Ones Matrix.\"\n",
        "    else:\n",
        "      mp = \"None.\"\n",
        "    print(f'Matrix:\\n{matrix}\\n\\nShape:\\t{matrix.shape}\\nSize: \\t{matrix.size}\\nRank:\\t{matrix.ndim}\\nSquare?: {m}\\nSpecial Characteristics: {mp}')\n",
        "  else:\n",
        "    print('Matrix is Empty')"
      ],
      "metadata": {
        "id": "GiyA_ERlMpFb"
      },
      "execution_count": 37,
      "outputs": []
    },
    {
      "cell_type": "code",
      "source": [
        "square_mat = np.array([\n",
        "   [7,4,9],\n",
        "   [15,6,8],  \n",
        "   [14,22,5]            \n",
        "])\n",
        "\n",
        "non_square_mat = np.array([\n",
        "   [4,7,12],    \n",
        "   [3,4,18],\n",
        "   [33,44,76], \n",
        "   [23,34,55]                  \n",
        "])\n",
        "mat_desc(square_mat)\n",
        "mat_desc(non_square_mat)"
      ],
      "metadata": {
        "colab": {
          "base_uri": "https://localhost:8080/"
        },
        "id": "8GlkBY8ClqzL",
        "outputId": "cc2e68a1-3fa9-49cf-a0ef-32a8a5dad08c"
      },
      "execution_count": 38,
      "outputs": [
        {
          "output_type": "stream",
          "name": "stdout",
          "text": [
            "Matrix:\n",
            "[[ 7  4  9]\n",
            " [15  6  8]\n",
            " [14 22  5]]\n",
            "\n",
            "Shape:\t(3, 3)\n",
            "Size: \t9\n",
            "Rank:\t2\n",
            "Square?: Square.\n",
            "Special Characteristics: None.\n",
            "Matrix:\n",
            "[[ 4  7 12]\n",
            " [ 3  4 18]\n",
            " [33 44 76]\n",
            " [23 34 55]]\n",
            "\n",
            "Shape:\t(4, 3)\n",
            "Size: \t12\n",
            "Rank:\t2\n",
            "Square?: Non-square.\n",
            "Special Characteristics: None.\n"
          ]
        },
        {
          "output_type": "stream",
          "name": "stderr",
          "text": [
            "/usr/local/lib/python3.7/dist-packages/ipykernel_launcher.py:7: DeprecationWarning: elementwise comparison failed; this will raise an error in the future.\n",
            "  import sys\n"
          ]
        }
      ]
    },
    {
      "cell_type": "code",
      "source": [
        "square_mat = np.array([\n",
        "   [72,5,29,17],\n",
        "   [11,16,32,45],  \n",
        "   [12,32,16, 24]            \n",
        "])\n",
        "\n",
        "non_square_mat = np.array([\n",
        "   [42,67,25, 23],    \n",
        "   [35,14,19, 29], \n",
        "   [15,17,69, 45],  \n",
        "   [75,77,99, 85],                 \n",
        "])\n",
        "mat_desc(square_mat)\n",
        "mat_desc(non_square_mat)"
      ],
      "metadata": {
        "colab": {
          "base_uri": "https://localhost:8080/"
        },
        "id": "YdDXDDG_s8tF",
        "outputId": "22b61dcc-14c1-436d-c9b3-f2c3b2b8ef0c"
      },
      "execution_count": 45,
      "outputs": [
        {
          "output_type": "stream",
          "name": "stdout",
          "text": [
            "Matrix:\n",
            "[[72  5 29 17]\n",
            " [11 16 32 45]\n",
            " [12 32 16 24]]\n",
            "\n",
            "Shape:\t(3, 4)\n",
            "Size: \t12\n",
            "Rank:\t2\n",
            "Square?: Non-square.\n",
            "Special Characteristics: None.\n",
            "Matrix:\n",
            "[[42 67 25 23]\n",
            " [35 14 19 29]\n",
            " [15 17 69 45]\n",
            " [75 77 99 85]]\n",
            "\n",
            "Shape:\t(4, 4)\n",
            "Size: \t16\n",
            "Rank:\t2\n",
            "Square?: Square.\n",
            "Special Characteristics: None.\n"
          ]
        },
        {
          "output_type": "stream",
          "name": "stderr",
          "text": [
            "/usr/local/lib/python3.7/dist-packages/ipykernel_launcher.py:7: DeprecationWarning: elementwise comparison failed; this will raise an error in the future.\n",
            "  import sys\n"
          ]
        }
      ]
    },
    {
      "cell_type": "code",
      "source": [
        "square_mat = np.array([\n",
        "   [44,43,34,77,85],\n",
        "   [21,18,33,44,97],  \n",
        "   [72,42,66,55,82],\n",
        "   [25,27,88,99,75],\n",
        "   [45,37,98,19,15],           \n",
        "])\n",
        "\n",
        "non_square_mat = np.array([\n",
        "   [72,77,25, 63],    \n",
        "   [75,13,10, 89],\n",
        "   [65,23,80, 79]                    \n",
        "])\n",
        "mat_desc(square_mat)\n",
        "mat_desc(non_square_mat)"
      ],
      "metadata": {
        "colab": {
          "base_uri": "https://localhost:8080/"
        },
        "id": "UsXJ7YK6uBVK",
        "outputId": "790c5a9c-f026-4f7c-aca6-569a66b0b006"
      },
      "execution_count": 40,
      "outputs": [
        {
          "output_type": "stream",
          "name": "stdout",
          "text": [
            "Matrix:\n",
            "[[44 43 34 77 85]\n",
            " [21 18 33 44 97]\n",
            " [72 42 66 55 82]\n",
            " [25 27 88 99 75]\n",
            " [45 37 98 19 15]]\n",
            "\n",
            "Shape:\t(5, 5)\n",
            "Size: \t25\n",
            "Rank:\t2\n",
            "Square?: Square.\n",
            "Special Characteristics: None.\n",
            "Matrix:\n",
            "[[72 77 25 63]\n",
            " [75 13 10 89]\n",
            " [65 23 80 79]]\n",
            "\n",
            "Shape:\t(3, 4)\n",
            "Size: \t12\n",
            "Rank:\t2\n",
            "Square?: Non-square.\n",
            "Special Characteristics: None.\n"
          ]
        },
        {
          "output_type": "stream",
          "name": "stderr",
          "text": [
            "/usr/local/lib/python3.7/dist-packages/ipykernel_launcher.py:7: DeprecationWarning: elementwise comparison failed; this will raise an error in the future.\n",
            "  import sys\n"
          ]
        }
      ]
    },
    {
      "cell_type": "markdown",
      "source": [
        "##Identity, Ones, Zero Or Empty Matrix"
      ],
      "metadata": {
        "id": "p8b_2tn-0hIb"
      }
    },
    {
      "cell_type": "markdown",
      "source": [
        "##Null Matrix or Empty Matrix"
      ],
      "metadata": {
        "id": "z6-QVSeFx7t7"
      }
    },
    {
      "cell_type": "code",
      "source": [
        "null_mat = np.array([])\n",
        "mat_desc(null_mat)"
      ],
      "metadata": {
        "colab": {
          "base_uri": "https://localhost:8080/"
        },
        "id": "sqj5qKL9LumK",
        "outputId": "30dc4d57-11e4-4054-b5d7-27d8e6786f67"
      },
      "execution_count": 41,
      "outputs": [
        {
          "output_type": "stream",
          "name": "stdout",
          "text": [
            "Matrix is Empty\n"
          ]
        }
      ]
    },
    {
      "cell_type": "markdown",
      "source": [
        "###Zero Matrix\n"
      ],
      "metadata": {
        "id": "BBh-7vpaN9i5"
      }
    },
    {
      "cell_type": "code",
      "source": [
        "zero_mat = np.array([\n",
        "   [0,0,0,0],\n",
        "   [0,0,0,0],  \n",
        "   [0,0,0,0],\n",
        "   [0,0,0,0]          \n",
        "])\n",
        "mat_desc(zero_mat)\n"
      ],
      "metadata": {
        "colab": {
          "base_uri": "https://localhost:8080/"
        },
        "id": "rPMiGUWPMIuH",
        "outputId": "bb38c7b7-9923-4383-934a-c0ca2e7ecdad"
      },
      "execution_count": 42,
      "outputs": [
        {
          "output_type": "stream",
          "name": "stdout",
          "text": [
            "Matrix:\n",
            "[[0 0 0 0]\n",
            " [0 0 0 0]\n",
            " [0 0 0 0]\n",
            " [0 0 0 0]]\n",
            "\n",
            "Shape:\t(4, 4)\n",
            "Size: \t16\n",
            "Rank:\t2\n",
            "Square?: Square.\n",
            "Special Characteristics: Zero Matrix.\n"
          ]
        }
      ]
    },
    {
      "cell_type": "markdown",
      "source": [
        "###Ones Matrix"
      ],
      "metadata": {
        "id": "2b359uuZ-rVW"
      }
    },
    {
      "cell_type": "code",
      "source": [
        "ones_mat = np.array([\n",
        "   [1,1,1,1,1],\n",
        "   [1,1,1,1,1],\n",
        "   [1,1,1,1,1],\n",
        "   [1,1,1,1,1],\n",
        "   [1,1,1,1,1],          \n",
        "])\n",
        "mat_desc(ones_mat)"
      ],
      "metadata": {
        "colab": {
          "base_uri": "https://localhost:8080/"
        },
        "id": "1zxSU9-GPsn1",
        "outputId": "96278c61-242d-4e6f-e5f4-fc02f612011d"
      },
      "execution_count": 43,
      "outputs": [
        {
          "output_type": "stream",
          "name": "stdout",
          "text": [
            "Matrix:\n",
            "[[1 1 1 1 1]\n",
            " [1 1 1 1 1]\n",
            " [1 1 1 1 1]\n",
            " [1 1 1 1 1]\n",
            " [1 1 1 1 1]]\n",
            "\n",
            "Shape:\t(5, 5)\n",
            "Size: \t25\n",
            "Rank:\t2\n",
            "Square?: Square.\n",
            "Special Characteristics: Ones Matrix.\n"
          ]
        }
      ]
    },
    {
      "cell_type": "markdown",
      "source": [
        "###Identity Matrix"
      ],
      "metadata": {
        "id": "8ta1wlQN-1m8"
      }
    },
    {
      "cell_type": "code",
      "source": [
        "identity_mat = np.array([\n",
        "   [1., 0., 0., 0., 0., 0., 0., 0.],\n",
        "   [0., 1., 0., 0., 0., 0., 0., 0.],\n",
        "   [0., 0., 1., 0., 0., 0., 0., 0.],\n",
        "   [0., 0., 0., 1., 0., 0., 0., 0.],\n",
        "   [0., 0., 0., 0., 1., 0., 0., 0.],\n",
        "   [0., 0., 0., 0., 0., 1., 0., 0.],\n",
        "   [0., 0., 0., 0., 0., 0., 1., 0.],\n",
        "   [0., 0., 0., 0., 0., 0., 0., 1.]        \n",
        "])\n",
        "mat_desc(identity_mat)\n"
      ],
      "metadata": {
        "colab": {
          "base_uri": "https://localhost:8080/"
        },
        "id": "esQwIG95QGFi",
        "outputId": "06c1d8b4-35fe-41d0-815d-f1aa675c817d"
      },
      "execution_count": 46,
      "outputs": [
        {
          "output_type": "stream",
          "name": "stdout",
          "text": [
            "Matrix:\n",
            "[[1. 0. 0. 0. 0. 0. 0. 0.]\n",
            " [0. 1. 0. 0. 0. 0. 0. 0.]\n",
            " [0. 0. 1. 0. 0. 0. 0. 0.]\n",
            " [0. 0. 0. 1. 0. 0. 0. 0.]\n",
            " [0. 0. 0. 0. 1. 0. 0. 0.]\n",
            " [0. 0. 0. 0. 0. 1. 0. 0.]\n",
            " [0. 0. 0. 0. 0. 0. 1. 0.]\n",
            " [0. 0. 0. 0. 0. 0. 0. 1.]]\n",
            "\n",
            "Shape:\t(8, 8)\n",
            "Size: \t64\n",
            "Rank:\t2\n",
            "Square?: Square.\n",
            "Special Characteristics: Identity Matrix.\n"
          ]
        }
      ]
    }
  ]
}