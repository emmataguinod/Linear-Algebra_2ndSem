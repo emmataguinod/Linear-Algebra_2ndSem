{
  "nbformat": 4,
  "nbformat_minor": 0,
  "metadata": {
    "colab": {
      "name": "Copy of  Laboratory 3 : Matrix Operations",
      "provenance": [],
      "collapsed_sections": [
        "Hwn9JwPtEYfn",
        "QfVnyhXzE_zr"
      ],
      "include_colab_link": true
    },
    "kernelspec": {
      "name": "python3",
      "display_name": "Python 3"
    },
    "language_info": {
      "name": "python"
    }
  },
  "cells": [
    {
      "cell_type": "markdown",
      "metadata": {
        "id": "view-in-github",
        "colab_type": "text"
      },
      "source": [
        "<a href=\"https://colab.research.google.com/github/emmataguinod/Linear-Algebra_2ndSem/blob/main/Copy_of_Laboratory_3_Matrix_Operations.ipynb\" target=\"_parent\"><img src=\"https://colab.research.google.com/assets/colab-badge.svg\" alt=\"Open In Colab\"/></a>"
      ]
    },
    {
      "cell_type": "markdown",
      "source": [
        "# Linear Algebra for CHE\n",
        "## Laboratory 3 : Matrix Operations"
      ],
      "metadata": {
        "id": "o3MrbhVTCwH8"
      }
    },
    {
      "cell_type": "markdown",
      "source": [
        "## Discussion"
      ],
      "metadata": {
        "id": "kGzFeuw1C4CI"
      }
    },
    {
      "cell_type": "code",
      "execution_count": 2,
      "metadata": {
        "id": "ND9FevVJCYs_"
      },
      "outputs": [],
      "source": [
        "import numpy as np\n",
        "import matplotlib.pyplot as plt\n",
        "%matplotlib inline"
      ]
    },
    {
      "cell_type": "markdown",
      "source": [
        "## Transposition"
      ],
      "metadata": {
        "id": "qCoEXCLYDIQ-"
      }
    },
    {
      "cell_type": "markdown",
      "source": [
        "$$A = \\begin{bmatrix} 1 & 2 & 5\\\\5 & -1 &0 \\\\ 0 & -3 & 3\\end{bmatrix} $$"
      ],
      "metadata": {
        "id": "gUOWB4xHDKn1"
      }
    },
    {
      "cell_type": "markdown",
      "source": [
        "$$ A^T = \\begin{bmatrix} 1 & 5 & 0\\\\2 & -1 &-3 \\\\ 5 & 0 & 3\\end{bmatrix}$$"
      ],
      "metadata": {
        "id": "e13VvmoHDOe7"
      }
    },
    {
      "cell_type": "markdown",
      "source": [
        "This can now be achieved programmatically by using `np.transpose()` or using the `T` method."
      ],
      "metadata": {
        "id": "LEw3_mGxDTWZ"
      }
    },
    {
      "cell_type": "code",
      "source": [
        "A = np.array([\n",
        "    [1 ,2, 5],\n",
        "    [5, -1, 0],\n",
        "    [0, -3, 3]\n",
        "])\n",
        "A"
      ],
      "metadata": {
        "colab": {
          "base_uri": "https://localhost:8080/"
        },
        "id": "pyhXncm9DYEq",
        "outputId": "1a457a07-eaff-4c2e-d2a8-2461f6096224"
      },
      "execution_count": null,
      "outputs": [
        {
          "output_type": "execute_result",
          "data": {
            "text/plain": [
              "array([[ 1,  2,  5],\n",
              "       [ 5, -1,  0],\n",
              "       [ 0, -3,  3]])"
            ]
          },
          "metadata": {},
          "execution_count": 2
        }
      ]
    },
    {
      "cell_type": "code",
      "source": [
        "AT1 = np.transpose(A)\n"
      ],
      "metadata": {
        "id": "igJMrZCFDbJe"
      },
      "execution_count": null,
      "outputs": []
    },
    {
      "cell_type": "code",
      "source": [
        "AT2 = A.T"
      ],
      "metadata": {
        "id": "rq_Te0wHDbVO"
      },
      "execution_count": null,
      "outputs": []
    },
    {
      "cell_type": "code",
      "source": [
        "np.array_equiv(AT1, AT2)"
      ],
      "metadata": {
        "colab": {
          "base_uri": "https://localhost:8080/"
        },
        "id": "gUZNKq1uDoUB",
        "outputId": "7cfbd5f5-6a77-4182-b7ec-b701268675da"
      },
      "execution_count": null,
      "outputs": [
        {
          "output_type": "execute_result",
          "data": {
            "text/plain": [
              "True"
            ]
          },
          "metadata": {},
          "execution_count": 6
        }
      ]
    },
    {
      "cell_type": "code",
      "source": [
        "B = np.array([\n",
        "    [1,2,3,4],\n",
        "    [1,0,2,1],\n",
        "])\n",
        "B.shape"
      ],
      "metadata": {
        "colab": {
          "base_uri": "https://localhost:8080/"
        },
        "id": "sT8wHOEtDtTE",
        "outputId": "1a34cacf-725a-4850-82e7-8e9559eb1d5e"
      },
      "execution_count": null,
      "outputs": [
        {
          "output_type": "execute_result",
          "data": {
            "text/plain": [
              "(2, 4)"
            ]
          },
          "metadata": {},
          "execution_count": 7
        }
      ]
    },
    {
      "cell_type": "code",
      "source": [
        "np.transpose(B).shape"
      ],
      "metadata": {
        "colab": {
          "base_uri": "https://localhost:8080/"
        },
        "id": "t1_QuFO5DvGM",
        "outputId": "34676139-e5bd-4190-b5fa-6499b557c447"
      },
      "execution_count": null,
      "outputs": [
        {
          "output_type": "execute_result",
          "data": {
            "text/plain": [
              "(4, 2)"
            ]
          },
          "metadata": {},
          "execution_count": 8
        }
      ]
    },
    {
      "cell_type": "code",
      "source": [
        "B.T.shape"
      ],
      "metadata": {
        "colab": {
          "base_uri": "https://localhost:8080/"
        },
        "id": "Q56eCjQ9Dx3g",
        "outputId": "ae40d4b1-8233-4747-f11b-14dee54e3be1"
      },
      "execution_count": null,
      "outputs": [
        {
          "output_type": "execute_result",
          "data": {
            "text/plain": [
              "(4, 2)"
            ]
          },
          "metadata": {},
          "execution_count": 9
        }
      ]
    },
    {
      "cell_type": "markdown",
      "source": [
        "## Dot Product / Inner Product"
      ],
      "metadata": {
        "id": "fpeDUu6mD3S-"
      }
    },
    {
      "cell_type": "markdown",
      "source": [
        "If you recall the dot product from laboratory activity before, we will try to implement the same operation with matrices. In matrix dot product we are going to get the sum of products of the vectors by row-column pairs. So if we have two matrices $X$ and $Y$:\n",
        "\n",
        "$$X = \\begin{bmatrix}x_{(0,0)}&x_{(0,1)}\\\\ x_{(1,0)}&x_{(1,1)}\\end{bmatrix}, Y = \\begin{bmatrix}y_{(0,0)}&y_{(0,1)}\\\\ y_{(1,0)}&y_{(1,1)}\\end{bmatrix}$$\n",
        "\n",
        "The dot product will then be computed as:\n",
        "$$X \\cdot Y= \\begin{bmatrix} x_{(0,0)}*y_{(0,0)} + x_{(0,1)}*y_{(1,0)} & x_{(0,0)}*y_{(0,1)} + x_{(0,1)}*y_{(1,1)} \\\\  x_{(1,0)}*y_{(0,0)} + x_{(1,1)}*y_{(1,0)} & x_{(1,0)}*y_{(0,1)} + x_{(1,1)}*y_{(1,1)}\n",
        "\\end{bmatrix}$$\n",
        "\n",
        "So if we assign values to $X$ and $Y$:\n",
        "$$X = \\begin{bmatrix}1&2\\\\ 0&1\\end{bmatrix}, Y = \\begin{bmatrix}-1&0\\\\ 2&2\\end{bmatrix}$$"
      ],
      "metadata": {
        "id": "sx_oow_bD6Xs"
      }
    },
    {
      "cell_type": "markdown",
      "source": [
        "$$X \\cdot Y= \\begin{bmatrix} 1*-1 + 2*2 & 1*0 + 2*2 \\\\  0*-1 + 1*2 & 0*0 + 1*2 \\end{bmatrix} = \\begin{bmatrix} 3 & 4 \\\\2 & 2 \\end{bmatrix}$$\n",
        "This could be achieved programmatically using `np.dot()`, `np.matmul()` or the `@` operator."
      ],
      "metadata": {
        "id": "6hCGau4UEEQX"
      }
    },
    {
      "cell_type": "code",
      "source": [
        "X = np.array([\n",
        "    [1,2],\n",
        "    [0,1]\n",
        "])\n",
        "Y = np.array([\n",
        "    [-1,0],\n",
        "    [2,2]\n",
        "])"
      ],
      "metadata": {
        "id": "gy07_kDtEIai"
      },
      "execution_count": null,
      "outputs": []
    },
    {
      "cell_type": "code",
      "source": [
        "np.dot(X,Y)"
      ],
      "metadata": {
        "colab": {
          "base_uri": "https://localhost:8080/"
        },
        "id": "u5H75anqEKgE",
        "outputId": "49c12239-c9d9-4f7f-c751-95e8eaf28d7f"
      },
      "execution_count": null,
      "outputs": [
        {
          "output_type": "execute_result",
          "data": {
            "text/plain": [
              "array([[3, 4],\n",
              "       [2, 2]])"
            ]
          },
          "metadata": {},
          "execution_count": 11
        }
      ]
    },
    {
      "cell_type": "code",
      "source": [
        "X.dot(Y)"
      ],
      "metadata": {
        "colab": {
          "base_uri": "https://localhost:8080/"
        },
        "id": "8O-Nog8sENVJ",
        "outputId": "8f565a92-06e6-464c-c9f8-7307bb9f4f92"
      },
      "execution_count": null,
      "outputs": [
        {
          "output_type": "execute_result",
          "data": {
            "text/plain": [
              "array([[3, 4],\n",
              "       [2, 2]])"
            ]
          },
          "metadata": {},
          "execution_count": 12
        }
      ]
    },
    {
      "cell_type": "code",
      "source": [
        "X @ Y"
      ],
      "metadata": {
        "colab": {
          "base_uri": "https://localhost:8080/"
        },
        "id": "82-wxZrwERu6",
        "outputId": "1de4cc75-d997-401f-e9a5-43b6fe18c323"
      },
      "execution_count": null,
      "outputs": [
        {
          "output_type": "execute_result",
          "data": {
            "text/plain": [
              "array([[3, 4],\n",
              "       [2, 2]])"
            ]
          },
          "metadata": {},
          "execution_count": 13
        }
      ]
    },
    {
      "cell_type": "code",
      "source": [
        "np.matmul(X,Y)"
      ],
      "metadata": {
        "colab": {
          "base_uri": "https://localhost:8080/"
        },
        "id": "Pd1pmGRzEUGS",
        "outputId": "72981c93-f5a3-41e6-bfef-cb255e17748c"
      },
      "execution_count": null,
      "outputs": [
        {
          "output_type": "execute_result",
          "data": {
            "text/plain": [
              "array([[3, 4],\n",
              "       [2, 2]])"
            ]
          },
          "metadata": {},
          "execution_count": 14
        }
      ]
    },
    {
      "cell_type": "markdown",
      "source": [
        "In matrix dot products there are additional rules compared with vector dot products. Since vector dot products were just in one dimension there are less restrictions. Since now we are dealing with Rank 2 vectors we need to consider some rules:\n",
        "\n",
        "### Rule 1: The inner dimensions of the two matrices in question must be the same. \n",
        "\n",
        "So given a matrix $A$ with a shape of $(a,b)$ where $a$ and $b$ are any integers. If we want to do a dot product between $A$ and another matrix $B$, then matrix $B$ should have a shape of $(b,c)$ where $b$ and $c$ are any integers. So for given the following matrices:\n",
        "\n",
        "$$A = \\begin{bmatrix}2&4\\\\5&-2\\\\0&1\\end{bmatrix}, B = \\begin{bmatrix}1&1\\\\3&3\\\\-1&-2\\end{bmatrix}, C = \\begin{bmatrix}0&1&1\\\\1&1&2\\end{bmatrix}$$\n",
        "\n",
        "So in this case $A$ has a shape of $(3,2)$, $B$ has a shape of $(3,2)$ and $C$ has a shape of $(2,3)$. So the only matrix pairs that is eligible to perform dot product is matrices $A \\cdot C$, or $B \\cdot C$.  "
      ],
      "metadata": {
        "id": "Hwn9JwPtEYfn"
      }
    },
    {
      "cell_type": "code",
      "source": [
        "A = np.array([\n",
        "    [2, 4],\n",
        "    [5, -2],\n",
        "    [0, 1]\n",
        "])\n",
        "B = np.array([\n",
        "    [1,1],\n",
        "    [3,3],\n",
        "    [-1,-2]\n",
        "])\n",
        "C = np.array([\n",
        "    [0,1,1],\n",
        "    [1,1,2]\n",
        "])\n",
        "print(A.shape)\n",
        "print(B.shape)\n",
        "print(C.shape)"
      ],
      "metadata": {
        "colab": {
          "base_uri": "https://localhost:8080/"
        },
        "id": "uVJ4XCSwEZTB",
        "outputId": "b367f177-32c1-4676-eaa5-071221f6f8cb"
      },
      "execution_count": null,
      "outputs": [
        {
          "output_type": "stream",
          "name": "stdout",
          "text": [
            "(3, 2)\n",
            "(3, 2)\n",
            "(2, 3)\n"
          ]
        }
      ]
    },
    {
      "cell_type": "code",
      "source": [
        "A @ C"
      ],
      "metadata": {
        "colab": {
          "base_uri": "https://localhost:8080/"
        },
        "id": "QSmu4fRpEd2o",
        "outputId": "6a1102ba-82a6-49e7-e94c-70eca06d6a51"
      },
      "execution_count": null,
      "outputs": [
        {
          "output_type": "execute_result",
          "data": {
            "text/plain": [
              "array([[ 4,  6, 10],\n",
              "       [-2,  3,  1],\n",
              "       [ 1,  1,  2]])"
            ]
          },
          "metadata": {},
          "execution_count": 16
        }
      ]
    },
    {
      "cell_type": "code",
      "source": [
        "B @ C"
      ],
      "metadata": {
        "colab": {
          "base_uri": "https://localhost:8080/"
        },
        "id": "0k04rgytEh0A",
        "outputId": "e739b294-3335-4498-ba15-ecd2b4a51275"
      },
      "execution_count": null,
      "outputs": [
        {
          "output_type": "execute_result",
          "data": {
            "text/plain": [
              "array([[ 1,  2,  3],\n",
              "       [ 3,  6,  9],\n",
              "       [-2, -3, -5]])"
            ]
          },
          "metadata": {},
          "execution_count": 17
        }
      ]
    },
    {
      "cell_type": "markdown",
      "source": [
        "If you would notice the shape of the dot product changed and its shape is not the same as any of the matrices we used. The shape of a dot product is actually derived from the shapes of the matrices used. So recall matrix $A$ with a shape of $(a,b)$ and matrix $B$ with a shape of $(b,c)$, $A \\cdot B$ should have a shape $(a,c)$."
      ],
      "metadata": {
        "id": "bLmJ6NiXEncc"
      }
    },
    {
      "cell_type": "code",
      "source": [
        "A @ B.T"
      ],
      "metadata": {
        "colab": {
          "base_uri": "https://localhost:8080/"
        },
        "id": "7BBBsUJhEm_r",
        "outputId": "2e47b231-ae54-45d9-9870-b83a1bf606bb"
      },
      "execution_count": null,
      "outputs": [
        {
          "output_type": "execute_result",
          "data": {
            "text/plain": [
              "array([[  6,  18, -10],\n",
              "       [  3,   9,  -1],\n",
              "       [  1,   3,  -2]])"
            ]
          },
          "metadata": {},
          "execution_count": 18
        }
      ]
    },
    {
      "cell_type": "code",
      "source": [
        "X = np.array([\n",
        "    [1,2,3,0]\n",
        "])\n",
        "Y = np.array([\n",
        "    [1,0,4,-1]\n",
        "])\n",
        "print(X.shape)\n",
        "print(Y.shape)"
      ],
      "metadata": {
        "colab": {
          "base_uri": "https://localhost:8080/"
        },
        "id": "lL_R0xQnEriK",
        "outputId": "a2d4a7c0-1ed0-4e9d-e391-8db74b0c4c18"
      },
      "execution_count": null,
      "outputs": [
        {
          "output_type": "stream",
          "name": "stdout",
          "text": [
            "(1, 4)\n",
            "(1, 4)\n"
          ]
        }
      ]
    },
    {
      "cell_type": "code",
      "source": [
        "Y.T @ X"
      ],
      "metadata": {
        "colab": {
          "base_uri": "https://localhost:8080/"
        },
        "id": "m1aC21hmE0NT",
        "outputId": "fc613b6e-93b3-4544-c52b-58a826cc0687"
      },
      "execution_count": null,
      "outputs": [
        {
          "output_type": "execute_result",
          "data": {
            "text/plain": [
              "array([[ 1,  2,  3,  0],\n",
              "       [ 0,  0,  0,  0],\n",
              "       [ 4,  8, 12,  0],\n",
              "       [-1, -2, -3,  0]])"
            ]
          },
          "metadata": {},
          "execution_count": 20
        }
      ]
    },
    {
      "cell_type": "markdown",
      "source": [
        "And youcan see that when you try to multiply A and B, it returns `ValueError` pertaining to matrix shape mismatch."
      ],
      "metadata": {
        "id": "1_vCdHzwE3rn"
      }
    },
    {
      "cell_type": "markdown",
      "source": [
        "### Rule 2: Dot Product has special properties\n",
        "\n",
        "Dot products are prevalent in matrix algebra, this implies that it has several unique properties and it should be considered when formulation solutions:\n",
        " 1. $A \\cdot B \\neq B \\cdot A$\n",
        " 2. $A \\cdot (B \\cdot C) = (A \\cdot B) \\cdot C$\n",
        " 3. $A\\cdot(B+C) = A\\cdot B + A\\cdot C$\n",
        " 4. $(B+C)\\cdot A = B\\cdot A + C\\cdot A$\n",
        " 5. $A\\cdot I = A$\n",
        " 6. $A\\cdot \\emptyset = \\emptyset$ "
      ],
      "metadata": {
        "id": "QfVnyhXzE_zr"
      }
    },
    {
      "cell_type": "markdown",
      "source": [
        "I'll be doing just one of the properties and I'll leave the rest to test your skills!"
      ],
      "metadata": {
        "id": "OYgFaL31FElx"
      }
    },
    {
      "cell_type": "code",
      "source": [
        "A = np.array([\n",
        "    [13,12,11],\n",
        "    [4,15,1],\n",
        "    [1,11,10]\n",
        "])\n",
        "B = np.array([\n",
        "    [24,21,36],\n",
        "    [14,21,19],\n",
        "    [31,24,38]\n",
        "])\n",
        "C = np.array([\n",
        "    [13,12,30],\n",
        "    [30,21,11],\n",
        "    [11,10,21]\n",
        "])"
      ],
      "metadata": {
        "id": "iiW-OAoXE4wR"
      },
      "execution_count": null,
      "outputs": []
    },
    {
      "cell_type": "code",
      "source": [
        "A.dot(np.zeros(A.shape))"
      ],
      "metadata": {
        "colab": {
          "base_uri": "https://localhost:8080/"
        },
        "id": "onYrQ5koFMmt",
        "outputId": "eb94f266-25f1-44c2-d4df-da98809bb6e3"
      },
      "execution_count": null,
      "outputs": [
        {
          "output_type": "execute_result",
          "data": {
            "text/plain": [
              "array([[0., 0., 0.],\n",
              "       [0., 0., 0.],\n",
              "       [0., 0., 0.]])"
            ]
          },
          "metadata": {},
          "execution_count": 31
        }
      ]
    },
    {
      "cell_type": "code",
      "source": [
        "z_mat = np.zeros(A.shape)\n",
        "z_mat"
      ],
      "metadata": {
        "colab": {
          "base_uri": "https://localhost:8080/"
        },
        "id": "ck6Uba5oFP6g",
        "outputId": "890adaee-0fd5-4958-dc45-1b81cd878efd"
      },
      "execution_count": null,
      "outputs": [
        {
          "output_type": "execute_result",
          "data": {
            "text/plain": [
              "array([[0., 0., 0.],\n",
              "       [0., 0., 0.],\n",
              "       [0., 0., 0.]])"
            ]
          },
          "metadata": {},
          "execution_count": 30
        }
      ]
    },
    {
      "cell_type": "code",
      "source": [
        "a_dot_z = A.dot(np.zeros(A.shape))\n",
        "a_dot_z"
      ],
      "metadata": {
        "colab": {
          "base_uri": "https://localhost:8080/"
        },
        "id": "m7CICWSuFP-H",
        "outputId": "9b8593b3-6f7c-4deb-8c64-d6ae409e9eb3"
      },
      "execution_count": null,
      "outputs": [
        {
          "output_type": "execute_result",
          "data": {
            "text/plain": [
              "array([[0., 0., 0.],\n",
              "       [0., 0., 0.],\n",
              "       [0., 0., 0.]])"
            ]
          },
          "metadata": {},
          "execution_count": 29
        }
      ]
    },
    {
      "cell_type": "code",
      "source": [
        "np.array_equal(a_dot_z,z_mat)"
      ],
      "metadata": {
        "colab": {
          "base_uri": "https://localhost:8080/"
        },
        "id": "9SXqWicJFQHY",
        "outputId": "17e78ab6-20c7-4769-a6e3-3fdd61d43ec0"
      },
      "execution_count": null,
      "outputs": [
        {
          "output_type": "execute_result",
          "data": {
            "text/plain": [
              "True"
            ]
          },
          "metadata": {},
          "execution_count": 28
        }
      ]
    },
    {
      "cell_type": "code",
      "source": [
        "null_mat = np.empty(A.shape, dtype=float)\n",
        "null = np.array(null_mat,dtype=float)\n",
        "print(null)\n",
        "np.allclose(a_dot_z,null)"
      ],
      "metadata": {
        "colab": {
          "base_uri": "https://localhost:8080/"
        },
        "id": "CnRh17skFWjN",
        "outputId": "74f7c9b9-2df1-4619-8b73-bde9183056f9"
      },
      "execution_count": null,
      "outputs": [
        {
          "output_type": "stream",
          "name": "stdout",
          "text": [
            "[[0. 0. 0.]\n",
            " [0. 0. 0.]\n",
            " [0. 0. 0.]]\n"
          ]
        },
        {
          "output_type": "execute_result",
          "data": {
            "text/plain": [
              "True"
            ]
          },
          "metadata": {},
          "execution_count": 27
        }
      ]
    },
    {
      "cell_type": "markdown",
      "source": [
        "## Determinant"
      ],
      "metadata": {
        "id": "g2tRAOhNFZfB"
      }
    },
    {
      "cell_type": "markdown",
      "source": [
        "A determinant is a scalar value derived from a square matrix. The determinant is a fundamental and important value used in matrix algebra. Although it will not be evident in this laboratory on how it can be used practically, but it will be reatly used in future lessons.\n",
        "\n",
        "The determinant of some matrix $A$ is denoted as $det(A)$ or $|A|$. So let's say $A$ is represented as:\n",
        "$$A = \\begin{bmatrix}a_{(0,0)}&a_{(0,1)}\\\\a_{(1,0)}&a_{(1,1)}\\end{bmatrix}$$\n",
        "We can compute for the determinant as:\n",
        "$$|A| = a_{(0,0)}*a_{(1,1)} - a_{(1,0)}*a_{(0,1)}$$\n",
        "So if we have $A$ as:\n",
        "$$A = \\begin{bmatrix}1&4\\\\0&3\\end{bmatrix}, |A| = 3$$\n",
        "\n",
        "But you might wonder how about square matrices beyond the shape $(2,2)$? We can approach this problem by using several methods such as co-factor expansion and the minors method. This can be taught in the lecture of the laboratory but we can achieve the strenuous computation of high-dimensional matrices programmatically using Python. We can achieve this by using `np.linalg.det()`."
      ],
      "metadata": {
        "id": "Wt3HJ7XpFccX"
      }
    },
    {
      "cell_type": "code",
      "source": [
        "A = np.array([\n",
        "    [11,42],\n",
        "    [20,33]\n",
        "])\n",
        "np.linalg.det(A)"
      ],
      "metadata": {
        "colab": {
          "base_uri": "https://localhost:8080/"
        },
        "id": "LfE8IBTMFaNn",
        "outputId": "ae19cce3-a504-45a4-c540-51772b735dfa"
      },
      "execution_count": null,
      "outputs": [
        {
          "output_type": "execute_result",
          "data": {
            "text/plain": [
              "-476.9999999999997"
            ]
          },
          "metadata": {},
          "execution_count": 50
        }
      ]
    },
    {
      "cell_type": "code",
      "source": [
        "B = np.array([\n",
        "    [10,22,-2],\n",
        "    [24,43,-3],\n",
        "    [14,53,4]\n",
        "])\n",
        "np.linalg.det(B)"
      ],
      "metadata": {
        "colab": {
          "base_uri": "https://localhost:8080/"
        },
        "id": "EO8Yghz8MC-r",
        "outputId": "cb69f8e4-e9ff-43ff-d748-c111868eaeb1"
      },
      "execution_count": null,
      "outputs": [
        {
          "output_type": "execute_result",
          "data": {
            "text/plain": [
              "-1065.9999999999998"
            ]
          },
          "metadata": {},
          "execution_count": 51
        }
      ]
    },
    {
      "cell_type": "code",
      "source": [
        "## Now other mathematics classes would require you to solve this by hand, \n",
        "## and that is great for practicing your memorization and coordination skills \n",
        "## but in this class we aim for simplicity and speed so we'll use programming\n",
        "## but it's completely fine if you want to try to solve this one by hand.\n",
        "B = np.array([\n",
        "    [1,3,5,6],\n",
        "    [0,3,1,3],\n",
        "    [3,1,8,2],\n",
        "    [5,2,6,8]\n",
        "])\n",
        "np.linalg.det(B)"
      ],
      "metadata": {
        "colab": {
          "base_uri": "https://localhost:8080/"
        },
        "id": "gm5lXGoEFkbX",
        "outputId": "44ccbedb-59e5-4743-d6e1-ccb3ae1de27b"
      },
      "execution_count": null,
      "outputs": [
        {
          "output_type": "execute_result",
          "data": {
            "text/plain": [
              "-235.0000000000002"
            ]
          },
          "metadata": {},
          "execution_count": 30
        }
      ]
    },
    {
      "cell_type": "markdown",
      "source": [
        "## Inverse"
      ],
      "metadata": {
        "id": "qJBi3cGxFoJH"
      }
    },
    {
      "cell_type": "markdown",
      "source": [
        "The inverse of a matrix is another fundamental operation in matrix algebra. Determining the inverse of a matrix let us determine if its solvability and its characteristic as a system of linear equation — we'll expand on this in the nect module. Another use of the inverse matrix is solving the problem of divisibility between matrices. Although element-wise division exists but dividing the entire concept of matrices does not exists. Inverse matrices provides a related operation that could have the same concept of \"dividing\" matrices.\n",
        "\n",
        "Now to determine the inverse of a matrix we need to perform several steps. So let's say we have a matrix $M$:\n",
        "$$M = \\begin{bmatrix}1&7\\\\-3&5\\end{bmatrix}$$\n",
        "First, we need to get the determinant of $M$.\n",
        "$$|M| = (1)(5)-(-3)(7) = 26$$\n",
        "Next, we need to reform the matrix into the inverse form:\n",
        "$$M^{-1} = \\frac{1}{|M|} \\begin{bmatrix} m_{(1,1)} & -m_{(0,1)} \\\\ -m_{(1,0)} & m_{(0,0)}\\end{bmatrix}$$\n",
        "So that will be:\n",
        "$$M^{-1} = \\frac{1}{26} \\begin{bmatrix} 5 & -7 \\\\ 3 & 1\\end{bmatrix} = \\begin{bmatrix} \\frac{5}{26} & \\frac{-7}{26} \\\\ \\frac{3}{26} & \\frac{1}{26}\\end{bmatrix}$$\n",
        "For higher-dimension matrices you might need to use co-factors, minors, adjugates, and other reduction techinques. To solve this programmatially we can use `np.linalg.inv()`."
      ],
      "metadata": {
        "id": "JQdsAXNCFq6j"
      }
    },
    {
      "cell_type": "code",
      "source": [
        "M = np.array([\n",
        "    [11,17],\n",
        "    [-8, 25]\n",
        "])\n",
        "\n",
        "np.array(M @ np.linalg.inv(M), dtype=int)"
      ],
      "metadata": {
        "colab": {
          "base_uri": "https://localhost:8080/"
        },
        "id": "brDCT36xFr9U",
        "outputId": "03ef5a40-10a7-40a6-afa6-e3fa30922912"
      },
      "execution_count": null,
      "outputs": [
        {
          "output_type": "execute_result",
          "data": {
            "text/plain": [
              "array([[1, 0],\n",
              "       [0, 1]])"
            ]
          },
          "metadata": {},
          "execution_count": 33
        }
      ]
    },
    {
      "cell_type": "code",
      "source": [
        "P = np.array([\n",
        "    [7,8,9],\n",
        "    [4,6,-3],\n",
        "    [6,8,12]\n",
        "])\n",
        "Q = np.linalg.inv(P)\n",
        "Q"
      ],
      "metadata": {
        "colab": {
          "base_uri": "https://localhost:8080/"
        },
        "id": "-Tj1Xt-xOMPq",
        "outputId": "bb00dc71-4941-4c77-8369-69d3cedec24e"
      },
      "execution_count": null,
      "outputs": [
        {
          "output_type": "execute_result",
          "data": {
            "text/plain": [
              "array([[ 0.88888889, -0.22222222, -0.72222222],\n",
              "       [-0.61111111,  0.27777778,  0.52777778],\n",
              "       [-0.03703704, -0.07407407,  0.09259259]])"
            ]
          },
          "metadata": {},
          "execution_count": 34
        }
      ]
    },
    {
      "cell_type": "code",
      "source": [
        "P @ Q"
      ],
      "metadata": {
        "colab": {
          "base_uri": "https://localhost:8080/"
        },
        "id": "xC3sNs7wP1Ho",
        "outputId": "7f20362a-9793-472b-eab6-66df32e7b5d4"
      },
      "execution_count": null,
      "outputs": [
        {
          "output_type": "execute_result",
          "data": {
            "text/plain": [
              "array([[ 1.00000000e+00, -1.11022302e-16,  2.49800181e-16],\n",
              "       [-5.55111512e-17,  1.00000000e+00,  1.38777878e-16],\n",
              "       [ 2.22044605e-16,  0.00000000e+00,  1.00000000e+00]])"
            ]
          },
          "metadata": {},
          "execution_count": 35
        }
      ]
    },
    {
      "cell_type": "code",
      "source": [
        "## And now let's test your skills in solving a matrix with high dimensions:\n",
        "N = np.array([\n",
        "    [18,5,23,1,0,33,5],\n",
        "    [0,45,0,11,2,4,2],\n",
        "    [5,9,20,0,0,0,3],\n",
        "    [1,6,4,4,8,43,1],\n",
        "    [8,6,8,7,1,6,1],\n",
        "    [-5,15,2,0,0,6,-30],\n",
        "    [-2,-5,1,2,1,20,12],\n",
        "])\n",
        "N_inv = np.linalg.inv(N)\n",
        "np.array(N @ N_inv,dtype=int)"
      ],
      "metadata": {
        "colab": {
          "base_uri": "https://localhost:8080/"
        },
        "id": "cPqmU6m-FvJr",
        "outputId": "8aea2c31-1193-4da8-a0fc-9a607429f176"
      },
      "execution_count": null,
      "outputs": [
        {
          "output_type": "execute_result",
          "data": {
            "text/plain": [
              "array([[0, 0, 0, 0, 0, 0, 0],\n",
              "       [0, 0, 0, 0, 0, 0, 0],\n",
              "       [0, 0, 1, 0, 0, 0, 0],\n",
              "       [0, 0, 0, 1, 0, 0, 0],\n",
              "       [0, 0, 0, 0, 0, 0, 0],\n",
              "       [0, 0, 0, 0, 0, 0, 0],\n",
              "       [0, 0, 0, 0, 0, 0, 0]])"
            ]
          },
          "metadata": {},
          "execution_count": 36
        }
      ]
    },
    {
      "cell_type": "markdown",
      "source": [
        "To validate the wether if the matric that you have solved is really the inverse, we follow this dot product property for a matrix $M$:\n",
        "$$M\\cdot M^{-1} = I$$"
      ],
      "metadata": {
        "id": "Wf8N7J0mFz2T"
      }
    },
    {
      "cell_type": "code",
      "source": [
        "squad = np.array([\n",
        "    [1.0, 1.0, 0.5],\n",
        "    [0.7, 0.7, 0.9],\n",
        "    [0.3, 0.3, 1.0]\n",
        "])\n",
        "weights = np.array([\n",
        "    [0.2, 0.2, 0.6]\n",
        "])\n",
        "p_grade = squad @ weights.T\n",
        "p_grade\n"
      ],
      "metadata": {
        "colab": {
          "base_uri": "https://localhost:8080/"
        },
        "id": "q4SdMdZxF1DU",
        "outputId": "32ad70c0-1bb5-4a65-c4ea-bd500c870a4a"
      },
      "execution_count": null,
      "outputs": [
        {
          "output_type": "execute_result",
          "data": {
            "text/plain": [
              "array([[0.7 ],\n",
              "       [0.82],\n",
              "       [0.72]])"
            ]
          },
          "metadata": {},
          "execution_count": 37
        }
      ]
    },
    {
      "cell_type": "markdown",
      "source": [
        "##Task 1"
      ],
      "metadata": {
        "id": "8-l_HIfaqoRE"
      }
    },
    {
      "cell_type": "code",
      "source": [
        "A = np.array([\n",
        "    [2,4,6],\n",
        "    [5,7,8],  \n",
        "    [4,2,9]  \n",
        "])\n",
        "\n",
        "B = np.array([\n",
        "   [7,4,9],\n",
        "   [15,6,8],  \n",
        "   [14,22,5]            \n",
        "])\n",
        "\n",
        "C = np.array([\n",
        "    [5,6,8],\n",
        "    [12,4,7], \n",
        "    [8,9,8]\n",
        "])"
      ],
      "metadata": {
        "id": "rykQCKyKIr89"
      },
      "execution_count": 3,
      "outputs": []
    },
    {
      "cell_type": "code",
      "source": [
        "# Commutative Property (First Property)\n",
        "print(\"The First Property states A*B is Not Equal to B*A\")\n",
        "print()\n",
        "\n",
        "print(\"Matrix A: \\n{}\".format(A))\n",
        "print()\n",
        "print(\"Matrix B: \\n{}\".format(B))\n",
        "print()\n",
        "\n",
        "x = A@B\n",
        "print(\"A@B\\n\\n{}\".format(x))\n",
        "print()\n",
        "y = B@A\n",
        "print(\"B@A\\n\\n{}\".format(y))\n",
        "print()\n",
        "\n",
        "a = np.array_equiv(x,y)\n",
        "print(\"Is A@B equal to B@A? \\n\")\n",
        "print(a)"
      ],
      "metadata": {
        "colab": {
          "base_uri": "https://localhost:8080/"
        },
        "id": "iCqP_gqdIvbJ",
        "outputId": "50126493-3676-4a68-97f1-15a305322336"
      },
      "execution_count": 4,
      "outputs": [
        {
          "output_type": "stream",
          "name": "stdout",
          "text": [
            "The First Property states A*B is Not Equal to B*A\n",
            "\n",
            "Matrix A: \n",
            "[[2 4 6]\n",
            " [5 7 8]\n",
            " [4 2 9]]\n",
            "\n",
            "Matrix B: \n",
            "[[ 7  4  9]\n",
            " [15  6  8]\n",
            " [14 22  5]]\n",
            "\n",
            "A@B\n",
            "\n",
            "[[158 164  80]\n",
            " [252 238 141]\n",
            " [184 226  97]]\n",
            "\n",
            "B@A\n",
            "\n",
            "[[ 70  74 155]\n",
            " [ 92 118 210]\n",
            " [158 220 305]]\n",
            "\n",
            "Is A@B equal to B@A? \n",
            "\n",
            "False\n"
          ]
        }
      ]
    },
    {
      "cell_type": "code",
      "source": [
        "# Associative Property (Second Property)\n",
        "print(\"The Second Property states A@(B@C) = (A@B)@C\")\n",
        "print()\n",
        "\n",
        "print(\"Matrix A: \\n{}\".format(A))\n",
        "print()\n",
        "print(\"Matrix B: \\n{}\".format(B))\n",
        "print()\n",
        "print(\"Matrix C: \\n{}\".format(C))\n",
        "print()\n",
        "\n",
        "x = A@(B@C)\n",
        "print(\"A@(B@C)\\n\\n{}\".format(x))\n",
        "print()\n",
        "y = (A@B)@C\n",
        "print(\"(A@B)@C\\n\\n{}\".format(y))\n",
        "print()\n",
        "\n",
        "a = np.array_equiv(x,y)\n",
        "print(\"Is the Associative Property True? \\n\")\n",
        "print(a)"
      ],
      "metadata": {
        "colab": {
          "base_uri": "https://localhost:8080/"
        },
        "id": "Rb04o3hEI-oT",
        "outputId": "79021d7e-4927-4b2a-8e7b-b1c9b9c7ba43"
      },
      "execution_count": 5,
      "outputs": [
        {
          "output_type": "stream",
          "name": "stdout",
          "text": [
            "The Second Property states A@(B@C) = (A@B)@C\n",
            "\n",
            "Matrix A: \n",
            "[[2 4 6]\n",
            " [5 7 8]\n",
            " [4 2 9]]\n",
            "\n",
            "Matrix B: \n",
            "[[ 7  4  9]\n",
            " [15  6  8]\n",
            " [14 22  5]]\n",
            "\n",
            "Matrix C: \n",
            "[[ 5  6  8]\n",
            " [12  4  7]\n",
            " [ 8  9  8]]\n",
            "\n",
            "A@(B@C)\n",
            "\n",
            "[[3398 2324 3052]\n",
            " [5244 3733 4810]\n",
            " [4408 2881 3830]]\n",
            "\n",
            "(A@B)@C\n",
            "\n",
            "[[3398 2324 3052]\n",
            " [5244 3733 4810]\n",
            " [4408 2881 3830]]\n",
            "\n",
            "Is the Associative Property True? \n",
            "\n",
            "True\n"
          ]
        }
      ]
    },
    {
      "cell_type": "code",
      "source": [
        "# Distributive Property #1 (Third Property)\n",
        "print(\"The Third Property states A@(B+C) = A@B + A@C\")\n",
        "print()\n",
        "\n",
        "print(\"Matrix A: \\n{}\".format(A))\n",
        "print()\n",
        "print(\"Matrix B: \\n{}\".format(B))\n",
        "print()\n",
        "print(\"Matrix C: \\n{}\".format(C))\n",
        "print()\n",
        "\n",
        "x = A@(B+C)\n",
        "print(\"A@(B+C)\\n\\n{}\".format(x))\n",
        "print()\n",
        "y = A@B + A@C\n",
        "print(\"A@B + A@C\\n\\n{}\".format(y))\n",
        "print()\n",
        "\n",
        "a = np.array_equiv(x,y)\n",
        "print(\"Is the First Distributive Property True? \\n\")\n",
        "print(a)"
      ],
      "metadata": {
        "colab": {
          "base_uri": "https://localhost:8080/"
        },
        "id": "3c3N-VyZJDFl",
        "outputId": "9c662e44-0f23-4fbf-94ac-9a4e9b7da17d"
      },
      "execution_count": 6,
      "outputs": [
        {
          "output_type": "stream",
          "name": "stdout",
          "text": [
            "The Third Property states A@(B+C) = A@B + A@C\n",
            "\n",
            "Matrix A: \n",
            "[[2 4 6]\n",
            " [5 7 8]\n",
            " [4 2 9]]\n",
            "\n",
            "Matrix B: \n",
            "[[ 7  4  9]\n",
            " [15  6  8]\n",
            " [14 22  5]]\n",
            "\n",
            "Matrix C: \n",
            "[[ 5  6  8]\n",
            " [12  4  7]\n",
            " [ 8  9  8]]\n",
            "\n",
            "A@(B+C)\n",
            "\n",
            "[[264 246 172]\n",
            " [425 368 294]\n",
            " [300 339 215]]\n",
            "\n",
            "A@B + A@C\n",
            "\n",
            "[[264 246 172]\n",
            " [425 368 294]\n",
            " [300 339 215]]\n",
            "\n",
            "Is the First Distributive Property True? \n",
            "\n",
            "True\n"
          ]
        }
      ]
    },
    {
      "cell_type": "code",
      "source": [
        "# Distributive Property #2 (Fourth Property)\n",
        "print(\"The Fourth Property states (B+C)@A = B@A + C@A\")\n",
        "print()\n",
        "\n",
        "print(\"Matrix A: \\n{}\".format(A))\n",
        "print()\n",
        "print(\"Matrix B: \\n{}\".format(B))\n",
        "print()\n",
        "print(\"Matrix C: \\n{}\".format(C))\n",
        "print()\n",
        "\n",
        "x = (B+C)@A\n",
        "print(\"(B+C)@A\\n\\n{}\".format(x))\n",
        "print()\n",
        "y = B@A + C@A\n",
        "print(\"B@A + C@A\\n\\n{}\".format(y))\n",
        "print()\n",
        "\n",
        "a = np.array_equiv(x,y)\n",
        "print(\"Is the Second Distributive Property True? \\n\")\n",
        "print(a)"
      ],
      "metadata": {
        "colab": {
          "base_uri": "https://localhost:8080/"
        },
        "id": "XlwiZ-ycJGdy",
        "outputId": "6a802e9b-ed2b-4020-b114-d7cd42230d2f"
      },
      "execution_count": 7,
      "outputs": [
        {
          "output_type": "stream",
          "name": "stdout",
          "text": [
            "The Fourth Property states (B+C)@A = B@A + C@A\n",
            "\n",
            "Matrix A: \n",
            "[[2 4 6]\n",
            " [5 7 8]\n",
            " [4 2 9]]\n",
            "\n",
            "Matrix B: \n",
            "[[ 7  4  9]\n",
            " [15  6  8]\n",
            " [14 22  5]]\n",
            "\n",
            "Matrix C: \n",
            "[[ 5  6  8]\n",
            " [12  4  7]\n",
            " [ 8  9  8]]\n",
            "\n",
            "(B+C)@A\n",
            "\n",
            "[[142 152 305]\n",
            " [164 208 377]\n",
            " [251 331 497]]\n",
            "\n",
            "B@A + C@A\n",
            "\n",
            "[[142 152 305]\n",
            " [164 208 377]\n",
            " [251 331 497]]\n",
            "\n",
            "Is the Second Distributive Property True? \n",
            "\n",
            "True\n"
          ]
        }
      ]
    },
    {
      "cell_type": "code",
      "source": [
        "# Identity Property (Fifth Property)\n",
        "print(\"The Fifth Property states A@I = A\")\n",
        "print()\n",
        "\n",
        "I = np.array([\n",
        "    [1,0,0],\n",
        "    [0,1,0],\n",
        "    [0,0,1]\n",
        "])\n",
        "print(\"I:\\n{}\".format(I))\n",
        "print()\n",
        "print(\"Matrix A: \\n{}\".format(A))\n",
        "print()\n",
        "\n",
        "x = A@I \n",
        "print(\"A@I \\n{}\".format(x))\n",
        "print()\n",
        "y = A\n",
        "\n",
        "a = np.array_equiv(x,y)\n",
        "print(\"Is the Identity Property Correct?\\n\")\n",
        "print(a)"
      ],
      "metadata": {
        "colab": {
          "base_uri": "https://localhost:8080/"
        },
        "id": "eTjORaWYJMEp",
        "outputId": "f23e6985-8bb3-4337-baf5-70a17b5dbb43"
      },
      "execution_count": 8,
      "outputs": [
        {
          "output_type": "stream",
          "name": "stdout",
          "text": [
            "The Fifth Property states A@I = A\n",
            "\n",
            "I:\n",
            "[[1 0 0]\n",
            " [0 1 0]\n",
            " [0 0 1]]\n",
            "\n",
            "Matrix A: \n",
            "[[2 4 6]\n",
            " [5 7 8]\n",
            " [4 2 9]]\n",
            "\n",
            "A@I \n",
            "[[2 4 6]\n",
            " [5 7 8]\n",
            " [4 2 9]]\n",
            "\n",
            "Is the Identity Property Correct?\n",
            "\n",
            "True\n"
          ]
        }
      ]
    },
    {
      "cell_type": "code",
      "source": [
        "# Null Property (Sixth Property)\n",
        "print(\"The Sixth Property states A@0 = 0\")\n",
        "print()\n",
        "\n",
        "Z = np.zeros((3,3))\n",
        "print(\"Z:\\n{}\".format(Z))\n",
        "print()\n",
        "print(\"Matrix A: \\n{}\".format(A))\n",
        "print()\n",
        "\n",
        "x = A@Z \n",
        "print(\"A@Z \\n{}\".format(x))\n",
        "print()\n",
        "y = A\n",
        "\n",
        "a = np.array_equiv(x,y)\n",
        "print(\"Does A@Z possess any values other than an array of zeroes?\\n\")\n",
        "print(a)"
      ],
      "metadata": {
        "colab": {
          "base_uri": "https://localhost:8080/"
        },
        "id": "ynGUIuxVJPeT",
        "outputId": "baa05e14-1310-45ef-8859-eb8512b8e617"
      },
      "execution_count": 9,
      "outputs": [
        {
          "output_type": "stream",
          "name": "stdout",
          "text": [
            "The Sixth Property states A@0 = 0\n",
            "\n",
            "Z:\n",
            "[[0. 0. 0.]\n",
            " [0. 0. 0.]\n",
            " [0. 0. 0.]]\n",
            "\n",
            "Matrix A: \n",
            "[[2 4 6]\n",
            " [5 7 8]\n",
            " [4 2 9]]\n",
            "\n",
            "A@Z \n",
            "[[0. 0. 0.]\n",
            " [0. 0. 0.]\n",
            " [0. 0. 0.]]\n",
            "\n",
            "Does A@Z possess any values other than an array of zeroes?\n",
            "\n",
            "False\n"
          ]
        }
      ]
    }
  ]
}