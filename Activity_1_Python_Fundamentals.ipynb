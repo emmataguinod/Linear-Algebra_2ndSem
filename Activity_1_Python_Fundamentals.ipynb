{
  "nbformat": 4,
  "nbformat_minor": 0,
  "metadata": {
    "colab": {
      "name": "Activity 1- Python Fundamentals",
      "provenance": [],
      "collapsed_sections": [],
      "authorship_tag": "ABX9TyMd8aqlL4aEr2eIziU6ouPy",
      "include_colab_link": true
    },
    "kernelspec": {
      "name": "python3",
      "display_name": "Python 3"
    },
    "language_info": {
      "name": "python"
    }
  },
  "cells": [
    {
      "cell_type": "markdown",
      "metadata": {
        "id": "view-in-github",
        "colab_type": "text"
      },
      "source": [
        "<a href=\"https://colab.research.google.com/github/emmataguinod/Linear-Algebra_2ndSem/blob/main/Activity_1_Python_Fundamentals.ipynb\" target=\"_parent\"><img src=\"https://colab.research.google.com/assets/colab-badge.svg\" alt=\"Open In Colab\"/></a>"
      ]
    },
    {
      "cell_type": "markdown",
      "source": [
        "# Welcome to Python Fundamentals\n",
        "In this module, we are going to establish or review our skills in Python programming. In this notebook we are going to cover:\n",
        "* Variables and Data Types \n",
        "* Operations\n",
        "* Input and Output Operations\n",
        "* Logic Control\n",
        "* Iterables\n",
        "* Functions\n"
      ],
      "metadata": {
        "id": "JtyE4PX1sN2R"
      }
    },
    {
      "cell_type": "markdown",
      "source": [
        "## Variable and Data Types \n",
        "\n",
        " Variables must be associated with a type of data, which can be an integer, a fraction, a character, or something else. Each data type differs in size and range from the others. Variables arrive in a variety of shapes and sizes. Several of are being used to store digits, others for text, and still others for much more complex types of data. \n"
      ],
      "metadata": {
        "id": "ZcYjuyECtDkk"
      }
    },
    {
      "cell_type": "code",
      "source": [
        "e = 4.25\n",
        "w,l=2, 7\n",
        "e"
      ],
      "metadata": {
        "colab": {
          "base_uri": "https://localhost:8080/"
        },
        "id": "XWY71hxCuRbp",
        "outputId": "517035fb-c7f2-494b-c9bb-e68587ff6c46"
      },
      "execution_count": null,
      "outputs": [
        {
          "output_type": "execute_result",
          "data": {
            "text/plain": [
              "4.25"
            ]
          },
          "metadata": {},
          "execution_count": 36
        }
      ]
    },
    {
      "cell_type": "code",
      "source": [
        "type(e)"
      ],
      "metadata": {
        "colab": {
          "base_uri": "https://localhost:8080/"
        },
        "id": "xW0zuYr6vujy",
        "outputId": "f0db1e0f-f2c9-4d8b-ca59-adcbfb308f4b"
      },
      "execution_count": null,
      "outputs": [
        {
          "output_type": "execute_result",
          "data": {
            "text/plain": [
              "int"
            ]
          },
          "metadata": {},
          "execution_count": 29
        }
      ]
    },
    {
      "cell_type": "code",
      "source": [
        "m = 2.25\n",
        "type(m)"
      ],
      "metadata": {
        "colab": {
          "base_uri": "https://localhost:8080/"
        },
        "id": "hje1lN2KvzQa",
        "outputId": "c30fbdf0-7d3d-4f33-9a30-041e88019dcd"
      },
      "execution_count": null,
      "outputs": [
        {
          "output_type": "execute_result",
          "data": {
            "text/plain": [
              "float"
            ]
          },
          "metadata": {},
          "execution_count": 30
        }
      ]
    },
    {
      "cell_type": "code",
      "source": [
        "e = float (e)\n",
        "type(e)"
      ],
      "metadata": {
        "colab": {
          "base_uri": "https://localhost:8080/"
        },
        "id": "CkBuuFWewcil",
        "outputId": "c5a77000-e0ca-4174-a715-d385b5391246"
      },
      "execution_count": null,
      "outputs": [
        {
          "output_type": "execute_result",
          "data": {
            "text/plain": [
              "float"
            ]
          },
          "metadata": {},
          "execution_count": 31
        }
      ]
    },
    {
      "cell_type": "code",
      "source": [
        "l,o,v = \"5\", '4', 'three'\n",
        "type(l)"
      ],
      "metadata": {
        "colab": {
          "base_uri": "https://localhost:8080/"
        },
        "id": "2b6DOXxRwzWQ",
        "outputId": "f55fe8e0-75a5-4a62-c194-2fb6d5926ccf"
      },
      "execution_count": null,
      "outputs": [
        {
          "output_type": "execute_result",
          "data": {
            "text/plain": [
              "str"
            ]
          },
          "metadata": {},
          "execution_count": 32
        }
      ]
    },
    {
      "cell_type": "code",
      "source": [
        "l_int = int(l)\n",
        "l_int"
      ],
      "metadata": {
        "colab": {
          "base_uri": "https://localhost:8080/"
        },
        "id": "hawffcCCxdTi",
        "outputId": "a8c593c8-6714-47dc-8352-70ad9a09a5b0"
      },
      "execution_count": null,
      "outputs": [
        {
          "output_type": "execute_result",
          "data": {
            "text/plain": [
              "5"
            ]
          },
          "metadata": {},
          "execution_count": 33
        }
      ]
    },
    {
      "cell_type": "markdown",
      "source": [
        "## Operations\n",
        "It involves arithmetic operations such as addition, subtraction, multiplication, and division, also includes floor division, exponentitation, and modulo. Operators are Python-specific symbols that perform arithmetic or logical computations. The operand is the value on which the operator acts. "
      ],
      "metadata": {
        "id": "IJ99cS0myAPW"
      }
    },
    {
      "cell_type": "markdown",
      "source": [
        "### Arithmetic\n",
        "In programming, an arithmetic operator is a collection of these signals or symbols that indicate the necessity for a specific mathematical action. They are similar to their real-world counterparts. They are part of an instruction set that defines the desired result."
      ],
      "metadata": {
        "id": "et1K_IGDyMOM"
      }
    },
    {
      "cell_type": "code",
      "source": [
        "l,o,v,e = 4.0, 1.2, -3, 75"
      ],
      "metadata": {
        "id": "oGJueYDbyQkE"
      },
      "execution_count": null,
      "outputs": []
    },
    {
      "cell_type": "code",
      "source": [
        "### Addition\n",
        "S = l+v\n",
        "S"
      ],
      "metadata": {
        "colab": {
          "base_uri": "https://localhost:8080/"
        },
        "id": "V3vt2epJyioL",
        "outputId": "277ad98b-00d5-4411-b8eb-4ebffde64065"
      },
      "execution_count": null,
      "outputs": [
        {
          "output_type": "execute_result",
          "data": {
            "text/plain": [
              "1.0"
            ]
          },
          "metadata": {},
          "execution_count": 12
        }
      ]
    },
    {
      "cell_type": "code",
      "source": [
        "### Subtraction\n",
        "D = v-e\n",
        "D"
      ],
      "metadata": {
        "colab": {
          "base_uri": "https://localhost:8080/"
        },
        "id": "5ORuPPYyzpN-",
        "outputId": "2729b351-8bff-40a5-e26d-fd4dc328b5b1"
      },
      "execution_count": null,
      "outputs": [
        {
          "output_type": "execute_result",
          "data": {
            "text/plain": [
              "-78"
            ]
          },
          "metadata": {},
          "execution_count": 13
        }
      ]
    },
    {
      "cell_type": "code",
      "source": [
        "### Division\n",
        "Q = v/l\n",
        "Q"
      ],
      "metadata": {
        "colab": {
          "base_uri": "https://localhost:8080/"
        },
        "id": "hg7YKDwezpda",
        "outputId": "fc55a4b1-468b-451b-c59c-c2751bd30323"
      },
      "execution_count": null,
      "outputs": [
        {
          "output_type": "execute_result",
          "data": {
            "text/plain": [
              "-0.75"
            ]
          },
          "metadata": {},
          "execution_count": 14
        }
      ]
    },
    {
      "cell_type": "code",
      "source": [
        "### Multiplication\n",
        "P = v*e\n",
        "P"
      ],
      "metadata": {
        "colab": {
          "base_uri": "https://localhost:8080/"
        },
        "id": "oT5KSxzGzppk",
        "outputId": "9558957a-3e5b-49a8-fe74-761bf0e23004"
      },
      "execution_count": null,
      "outputs": [
        {
          "output_type": "execute_result",
          "data": {
            "text/plain": [
              "-225"
            ]
          },
          "metadata": {},
          "execution_count": 15
        }
      ]
    },
    {
      "cell_type": "code",
      "source": [
        "### Floor Division\n",
        "Fq = v//o\n",
        "Fq"
      ],
      "metadata": {
        "colab": {
          "base_uri": "https://localhost:8080/"
        },
        "id": "S9RI6RXr0vqD",
        "outputId": "34857512-f0d0-41d1-e45c-dce3b01de762"
      },
      "execution_count": null,
      "outputs": [
        {
          "output_type": "execute_result",
          "data": {
            "text/plain": [
              "-3.0"
            ]
          },
          "metadata": {},
          "execution_count": 19
        }
      ]
    },
    {
      "cell_type": "code",
      "source": [
        "### Exponentiation\n",
        "E = l**o\n",
        "E"
      ],
      "metadata": {
        "colab": {
          "base_uri": "https://localhost:8080/"
        },
        "id": "nuchG3tL1DRV",
        "outputId": "f4afd62e-6267-48b2-be1f-3099004780a4"
      },
      "execution_count": null,
      "outputs": [
        {
          "output_type": "execute_result",
          "data": {
            "text/plain": [
              "5.278031643091577"
            ]
          },
          "metadata": {},
          "execution_count": 20
        }
      ]
    },
    {
      "cell_type": "code",
      "source": [
        "### Modulo\n",
        "mod = e%l\n",
        "mod"
      ],
      "metadata": {
        "id": "e3RLM-5S1e2p",
        "colab": {
          "base_uri": "https://localhost:8080/"
        },
        "outputId": "a87405c3-36b0-4ca6-a504-770af6afc5e1"
      },
      "execution_count": null,
      "outputs": [
        {
          "output_type": "execute_result",
          "data": {
            "text/plain": [
              "3.0"
            ]
          },
          "metadata": {},
          "execution_count": 21
        }
      ]
    },
    {
      "cell_type": "markdown",
      "source": [
        "### Assignment Operations\n",
        "In Python, assignment operators are being used to allocate values to variables.a = 5 is a straightforward assignment operator that designates the value 5 towards component a on the left. In Python, there are several compound operators, such as += 5, which adds to the variable and then assigns it. It is the same as a = a + 5."
      ],
      "metadata": {
        "id": "GkuiMNVp1jhI"
      }
    },
    {
      "cell_type": "code",
      "source": [
        "P, Q, R, S = 4, 12, 23, 101"
      ],
      "metadata": {
        "id": "aKpewSE61qDc"
      },
      "execution_count": 1,
      "outputs": []
    },
    {
      "cell_type": "code",
      "source": [
        "P += l\n",
        "P"
      ],
      "metadata": {
        "colab": {
          "base_uri": "https://localhost:8080/"
        },
        "id": "refA0POyl2Kx",
        "outputId": "e5aed3d5-95b9-48cf-a0a3-bdc0e1dd663a"
      },
      "execution_count": null,
      "outputs": [
        {
          "output_type": "execute_result",
          "data": {
            "text/plain": [
              "8.0"
            ]
          },
          "metadata": {},
          "execution_count": 25
        }
      ]
    },
    {
      "cell_type": "code",
      "source": [
        "R -= v\n",
        "R"
      ],
      "metadata": {
        "colab": {
          "base_uri": "https://localhost:8080/"
        },
        "id": "H2iSdoXunHj2",
        "outputId": "9fe6a96b-1a3b-4b14-98ef-47bd7075db37"
      },
      "execution_count": null,
      "outputs": [
        {
          "output_type": "execute_result",
          "data": {
            "text/plain": [
              "26"
            ]
          },
          "metadata": {},
          "execution_count": 26
        }
      ]
    },
    {
      "cell_type": "code",
      "source": [
        "Q *= 3\n",
        "Q"
      ],
      "metadata": {
        "colab": {
          "base_uri": "https://localhost:8080/"
        },
        "id": "G87qevTzn65l",
        "outputId": "5f7f349f-9187-42d0-ad40-0541a9d96822"
      },
      "execution_count": null,
      "outputs": [
        {
          "output_type": "execute_result",
          "data": {
            "text/plain": [
              "36"
            ]
          },
          "metadata": {},
          "execution_count": 27
        }
      ]
    },
    {
      "cell_type": "code",
      "source": [
        "S **= 3\n",
        "S"
      ],
      "metadata": {
        "colab": {
          "base_uri": "https://localhost:8080/"
        },
        "id": "GoQbg1NCof-D",
        "outputId": "c5802ee3-039d-4506-c038-5c2449e30ef7"
      },
      "execution_count": null,
      "outputs": [
        {
          "output_type": "execute_result",
          "data": {
            "text/plain": [
              "1030301"
            ]
          },
          "metadata": {},
          "execution_count": 28
        }
      ]
    },
    {
      "cell_type": "markdown",
      "source": [
        "### Comparators\n",
        "A comparator functionality is being used to arrange the objects of user-defined courses. A comparator object can compare two components with same class. The following function compares obj1 and obj2. "
      ],
      "metadata": {
        "id": "j9LctPLW3ZKf"
      }
    },
    {
      "cell_type": "code",
      "source": [
        "ems_1, ems_2, ems_3 = 1.5, 2.0, \"2\"\n",
        "true_val = 2"
      ],
      "metadata": {
        "id": "acD-u4SZ3eZa"
      },
      "execution_count": null,
      "outputs": []
    },
    {
      "cell_type": "code",
      "source": [
        "## Equality\n",
        "ems_2 == true_val"
      ],
      "metadata": {
        "colab": {
          "base_uri": "https://localhost:8080/"
        },
        "id": "WT58hy23XXCM",
        "outputId": "f3cd6e94-7ca7-435c-a8c4-5f67f9f78462"
      },
      "execution_count": null,
      "outputs": [
        {
          "output_type": "execute_result",
          "data": {
            "text/plain": [
              "True"
            ]
          },
          "metadata": {},
          "execution_count": 36
        }
      ]
    },
    {
      "cell_type": "code",
      "source": [
        "## Non-equality\n",
        "ems_1 != true_val"
      ],
      "metadata": {
        "colab": {
          "base_uri": "https://localhost:8080/"
        },
        "id": "_7RX3ujsXvVB",
        "outputId": "a6d91de9-17b1-4b10-97fb-cb6e56aec281"
      },
      "execution_count": null,
      "outputs": [
        {
          "output_type": "execute_result",
          "data": {
            "text/plain": [
              "True"
            ]
          },
          "metadata": {},
          "execution_count": 38
        }
      ]
    },
    {
      "cell_type": "code",
      "source": [
        "## Inequality\n",
        "W1 = ems_1 > ems_2\n",
        "W2 = ems_1 < ems_2*2\n",
        "W3 = ems_1 >= ems_2/2\n",
        "W4 = ems_1 <= ems_2/2\n",
        "W4"
      ],
      "metadata": {
        "colab": {
          "base_uri": "https://localhost:8080/"
        },
        "id": "0CpWT3hQt5cO",
        "outputId": "999dd4bc-10c4-480c-d3bf-033cc177bc4a"
      },
      "execution_count": null,
      "outputs": [
        {
          "output_type": "execute_result",
          "data": {
            "text/plain": [
              "False"
            ]
          },
          "metadata": {},
          "execution_count": 45
        }
      ]
    },
    {
      "cell_type": "markdown",
      "source": [
        "### Logical\n",
        "Logic functional programming in which different programming languages convey new facts about problems using a formal logic system. Facts are expressed similarly to rules, but without a body; for example, \"H is true if B1, B2, and B3 are true.\" Laws are applied as logical provisions with a head and a body; for example, \"H is true if B1, B2, and B3 are true.\" "
      ],
      "metadata": {
        "id": "YiYJ4NNP5IhS"
      }
    },
    {
      "cell_type": "code",
      "source": [
        "ems_2 == true_val"
      ],
      "metadata": {
        "id": "nQbxEnXU5Qmg",
        "colab": {
          "base_uri": "https://localhost:8080/"
        },
        "outputId": "836cb5ac-b880-4704-9de3-8d8b6ed5eaf3"
      },
      "execution_count": null,
      "outputs": [
        {
          "output_type": "execute_result",
          "data": {
            "text/plain": [
              "True"
            ]
          },
          "metadata": {},
          "execution_count": 48
        }
      ]
    },
    {
      "cell_type": "code",
      "source": [
        "ems_2 is true_val\n"
      ],
      "metadata": {
        "id": "K42LdNT9uKCK",
        "colab": {
          "base_uri": "https://localhost:8080/"
        },
        "outputId": "30dae352-9439-4619-99d7-fbcfa06fff76"
      },
      "execution_count": null,
      "outputs": [
        {
          "output_type": "execute_result",
          "data": {
            "text/plain": [
              "False"
            ]
          },
          "metadata": {},
          "execution_count": 54
        }
      ]
    },
    {
      "cell_type": "code",
      "source": [
        "ems_2 is not true_val"
      ],
      "metadata": {
        "colab": {
          "base_uri": "https://localhost:8080/"
        },
        "id": "xCq1GCAgxxni",
        "outputId": "aff44df8-eb2a-4569-9d06-77ee2a5e8edd"
      },
      "execution_count": null,
      "outputs": [
        {
          "output_type": "execute_result",
          "data": {
            "text/plain": [
              "True"
            ]
          },
          "metadata": {},
          "execution_count": 53
        }
      ]
    },
    {
      "cell_type": "code",
      "source": [
        "e, j = False, True\n",
        "conj = e and j\n",
        "conj"
      ],
      "metadata": {
        "colab": {
          "base_uri": "https://localhost:8080/"
        },
        "id": "ffuq6UBIy1EN",
        "outputId": "82fee1ed-c014-4ba6-9824-6b899eaf2c05"
      },
      "execution_count": null,
      "outputs": [
        {
          "output_type": "execute_result",
          "data": {
            "text/plain": [
              "False"
            ]
          },
          "metadata": {},
          "execution_count": 59
        }
      ]
    },
    {
      "cell_type": "code",
      "source": [
        "w, l = True, False\n",
        "disj = w or l\n",
        "disj"
      ],
      "metadata": {
        "colab": {
          "base_uri": "https://localhost:8080/"
        },
        "id": "PdoL6TQbzdMs",
        "outputId": "3848267c-ba5a-4fca-84fb-91d4f70c4d3a"
      },
      "execution_count": null,
      "outputs": [
        {
          "output_type": "execute_result",
          "data": {
            "text/plain": [
              "True"
            ]
          },
          "metadata": {},
          "execution_count": 62
        }
      ]
    },
    {
      "cell_type": "code",
      "source": [
        "t, y = True, False\n",
        "nand = not(t and y)\n",
        "nand"
      ],
      "metadata": {
        "colab": {
          "base_uri": "https://localhost:8080/"
        },
        "id": "ORMqvKjt0AYT",
        "outputId": "5d912f20-0721-4b66-95d5-fb7bf0816bb7"
      },
      "execution_count": null,
      "outputs": [
        {
          "output_type": "execute_result",
          "data": {
            "text/plain": [
              "True"
            ]
          },
          "metadata": {},
          "execution_count": 64
        }
      ]
    },
    {
      "cell_type": "code",
      "source": [
        "i, q = False, True\n",
        "xor = (not i and q) or (q and not i)\n",
        "xor"
      ],
      "metadata": {
        "colab": {
          "base_uri": "https://localhost:8080/"
        },
        "id": "sVr65eEq2J9_",
        "outputId": "d8278e29-7cb8-4bf1-89bb-1d47f4861eb2"
      },
      "execution_count": null,
      "outputs": [
        {
          "output_type": "execute_result",
          "data": {
            "text/plain": [
              "True"
            ]
          },
          "metadata": {},
          "execution_count": 65
        }
      ]
    },
    {
      "cell_type": "markdown",
      "source": [
        "###I/O\n",
        "Input and output, or I/O, is the exchange of data between being an information processing system, such as a computer, and the outside world, which could be a human or another information processing system. The indications or values obtained by the system are referred to as inputs, while the symbols or data sent from the system are referred to as outputs."
      ],
      "metadata": {
        "id": "Hk1Efa6a3jcJ"
      }
    },
    {
      "cell_type": "code",
      "source": [
        "print(\"Love Emma\")"
      ],
      "metadata": {
        "id": "lhQUw3Xs3qM0",
        "colab": {
          "base_uri": "https://localhost:8080/"
        },
        "outputId": "5af71fbe-f05b-4498-b7bb-2a695f323c0b"
      },
      "execution_count": null,
      "outputs": [
        {
          "output_type": "stream",
          "name": "stdout",
          "text": [
            "Love Emma\n"
          ]
        }
      ]
    },
    {
      "cell_type": "code",
      "source": [
        "cnt = 4"
      ],
      "metadata": {
        "id": "jMHs6xsbJ4hC"
      },
      "execution_count": null,
      "outputs": []
    },
    {
      "cell_type": "code",
      "source": [
        "string = \"Love Emma\"\n",
        "print(string, \", Current run count is:\", cnt)\n",
        "cnt += 4"
      ],
      "metadata": {
        "colab": {
          "base_uri": "https://localhost:8080/"
        },
        "id": "lz9Vf513JHiO",
        "outputId": "360c6810-0727-44dc-a8e5-a201c1a2249d"
      },
      "execution_count": null,
      "outputs": [
        {
          "output_type": "stream",
          "name": "stdout",
          "text": [
            "Love Emma , Current run count is: 4\n"
          ]
        }
      ]
    },
    {
      "cell_type": "code",
      "source": [
        "print(f\"{string}, Current count is: {cnt}\")"
      ],
      "metadata": {
        "colab": {
          "base_uri": "https://localhost:8080/"
        },
        "id": "SmHdGd_gLfRj",
        "outputId": "b2ce78c8-f161-413d-a89c-e9bc27215ae6"
      },
      "execution_count": null,
      "outputs": [
        {
          "output_type": "stream",
          "name": "stdout",
          "text": [
            "Love Emma, Current count is: 8\n"
          ]
        }
      ]
    },
    {
      "cell_type": "code",
      "source": [
        "sem_grade = 95.7698435674562\n",
        "name = \"\"\n",
        "print(\"Love {}, your semestral grade is: {}\".format(name, sem_grade))"
      ],
      "metadata": {
        "colab": {
          "base_uri": "https://localhost:8080/"
        },
        "id": "L7gNTEbPNHdC",
        "outputId": "a4c852df-b9b5-4cc8-e10b-d5aa27332139"
      },
      "execution_count": null,
      "outputs": [
        {
          "output_type": "stream",
          "name": "stdout",
          "text": [
            "Love , your semestral grade is: 95.7698435674562\n"
          ]
        }
      ]
    },
    {
      "cell_type": "code",
      "source": [
        "w_pg, w_mg, w_fg = 0.3, 0.3, 0.4\n",
        "print(\"The weights of your semestral grades are:\\\n",
        "\\n\\t{:.2%} for Prelims\\\n",
        "\\n\\t{:.2%} for Midterms, and\\\n",
        "\\n\\t{:.2%} for Finals.\".format(w_pg, w_mg, w_fg))"
      ],
      "metadata": {
        "colab": {
          "base_uri": "https://localhost:8080/"
        },
        "id": "xNRpqlTfSyYh",
        "outputId": "f3aac7ae-1564-4b48-be65-e1a0566ddda6"
      },
      "execution_count": null,
      "outputs": [
        {
          "output_type": "stream",
          "name": "stdout",
          "text": [
            "The weights of your semestral grades are:\n",
            "\t30.00% for Prelims\n",
            "\t30.00% for Midterms, and\n",
            "\t40.00% for Finals.\n"
          ]
        }
      ]
    },
    {
      "cell_type": "code",
      "source": [
        "v = input(\"my celebrity crush: \")\n",
        "v"
      ],
      "metadata": {
        "colab": {
          "base_uri": "https://localhost:8080/",
          "height": 52
        },
        "id": "oi6nOzcoU-BJ",
        "outputId": "6e553346-f162-43cf-cd5c-4599ba6218f2"
      },
      "execution_count": null,
      "outputs": [
        {
          "name": "stdout",
          "output_type": "stream",
          "text": [
            "my celebrity crush: manu rios\n"
          ]
        },
        {
          "output_type": "execute_result",
          "data": {
            "application/vnd.google.colaboratory.intrinsic+json": {
              "type": "string"
            },
            "text/plain": [
              "'manu rios'"
            ]
          },
          "metadata": {},
          "execution_count": 10
        }
      ]
    },
    {
      "cell_type": "code",
      "source": [
        "name = input(\"Me llamo: \")\n",
        "pg = input(\"Enter prelim grade: \")\n",
        "mg= input(\"Enter midterm grade: \")\n",
        "fg= input(\"Enter finals grade: \")\n",
        "sem_grade = None\n",
        "print(\"Love {}, your semestral grade is: {}\".format(name, sem_grade))"
      ],
      "metadata": {
        "colab": {
          "base_uri": "https://localhost:8080/"
        },
        "id": "9T42d4rwVp2m",
        "outputId": "3ebf7b40-18d5-4c48-b3f1-4a5acbcfe2f2"
      },
      "execution_count": null,
      "outputs": [
        {
          "output_type": "stream",
          "name": "stdout",
          "text": [
            "Me llamo: Emma\n",
            "Enter prelim grade: 95\n",
            "Enter midterm grade: 96\n",
            "Enter finals grade: 95\n",
            "Love Emma, your semestral grade is: None\n"
          ]
        }
      ]
    },
    {
      "cell_type": "markdown",
      "source": [
        "#Looping Statements\n",
        "A loop is used to execute a series of information repeatedly until a specific condition is met. For example, when displaying numbers from 1 to 100, you might wish to set the value of the parameter to 1 and display it 100 times, raising its value by one on each loop iteration. "
      ],
      "metadata": {
        "id": "8kI5gG7faj8Q"
      }
    },
    {
      "cell_type": "markdown",
      "source": [
        "##While\n",
        "A \"While\" Loop is used to iterate over a certain block of code until a condition is met. For instance, if we wish to ask a user for a range of 1 and 10, we don't remember how many times the user might enter a greater number, so we continually ask \"while the value is not between 1 and 10.\" "
      ],
      "metadata": {
        "id": "S_sI__m-xT5z"
      }
    },
    {
      "cell_type": "code",
      "source": [
        "## while loops\n",
        "j, l = 2, 9\n",
        "while(j<=l):\n",
        "    print(f\"{j}\\t|\\t{l}\")\n",
        "    j+=1"
      ],
      "metadata": {
        "id": "JjGKuuB3xa3L",
        "colab": {
          "base_uri": "https://localhost:8080/"
        },
        "outputId": "c69fba0c-8a51-4181-89f8-d1c3ccf96129"
      },
      "execution_count": null,
      "outputs": [
        {
          "output_type": "stream",
          "name": "stdout",
          "text": [
            "2\t|\t9\n",
            "3\t|\t9\n",
            "4\t|\t9\n",
            "5\t|\t9\n",
            "6\t|\t9\n",
            "7\t|\t9\n",
            "8\t|\t9\n",
            "9\t|\t9\n"
          ]
        }
      ]
    },
    {
      "cell_type": "markdown",
      "source": [
        "##For\n",
        "A \"For\" Loop is used to iterate over a specified block of code a predetermined number of times. For example, if we want to verify every student's grade in the course, we loop from 1 to that integer. Whenever the amount of times is unknown ahead of time, we utilize a \"While\" loop. "
      ],
      "metadata": {
        "id": "wNrSkpv3xgVs"
      }
    },
    {
      "cell_type": "code",
      "source": [
        "#for(int m=0; m<8; m++){\n",
        "#printf(j)\n",
        "#}\n",
        "\n",
        "j=1\n",
        "for j in range (12):\n",
        "    print(j)"
      ],
      "metadata": {
        "colab": {
          "base_uri": "https://localhost:8080/"
        },
        "id": "opnxsNPIeVqC",
        "outputId": "ae79e230-d717-477d-ceb0-5469730badfa"
      },
      "execution_count": null,
      "outputs": [
        {
          "output_type": "stream",
          "name": "stdout",
          "text": [
            "0\n",
            "1\n",
            "2\n",
            "3\n",
            "4\n",
            "5\n",
            "6\n",
            "7\n",
            "8\n",
            "9\n",
            "10\n",
            "11\n"
          ]
        }
      ]
    },
    {
      "cell_type": "code",
      "source": [
        "playlist = [\"Someday\",\"Unconditional\", \"Ikaw at Ako\"]\n",
        "print('Now Playing:\\n')\n",
        "for song in playlist:\n",
        "    print(song)"
      ],
      "metadata": {
        "id": "QqUjx_sOxjny",
        "colab": {
          "base_uri": "https://localhost:8080/"
        },
        "outputId": "b232d085-c353-4db5-f849-67bfb085e1e4"
      },
      "execution_count": null,
      "outputs": [
        {
          "output_type": "stream",
          "name": "stdout",
          "text": [
            "Now Playing:\n",
            "\n",
            "Someday\n",
            "Unconditional\n",
            "Ikaw at Ako\n"
          ]
        }
      ]
    },
    {
      "cell_type": "markdown",
      "source": [
        "##Flow Control\n",
        "Control flow statements allow you to direct the flow of code execution in your application. In the Java programming, you can regulate the flow of code execution by using strategic planning, branching, looping, and conditional blocks. "
      ],
      "metadata": {
        "id": "dOv-lSVLhQfQ"
      }
    },
    {
      "cell_type": "markdown",
      "source": [
        "###Condition Statements\n",
        "Conditional statements are used in several programming languages to direct the computer on what to do when certain circumstances are met. Such things are decided if and only if the which was before conditions are true or untrue, relying on the functions in mind by the programmer. "
      ],
      "metadata": {
        "id": "ZXPkKBqXhW-h"
      }
    },
    {
      "cell_type": "code",
      "source": [
        "numeral1, numeral2 = 9, 18\n",
        "if(numeral1 == numeral2):\n",
        "    print(\"Oki\")\n",
        "elif(numeral1>numeral2):\n",
        "    print(\"Fine\")\n",
        "else:\n",
        "    print(\"Truly\")"
      ],
      "metadata": {
        "colab": {
          "base_uri": "https://localhost:8080/"
        },
        "id": "bhF2lXfNieP2",
        "outputId": "3e4c7161-cb58-42bb-8cfc-292aeb8d0d6a"
      },
      "execution_count": null,
      "outputs": [
        {
          "output_type": "stream",
          "name": "stdout",
          "text": [
            "Truly\n"
          ]
        }
      ]
    },
    {
      "cell_type": "markdown",
      "source": [
        "##Functions\n",
        "Functions are \"self-contained\" blocks of code that perform a single task. Functions typically \"take in,\" \"process,\" and \"return\" an output. Once a code is created, it can be reused indefinitely. Functions may be \"called\" from within other functions. "
      ],
      "metadata": {
        "id": "nQ9oCQbokkmm"
      }
    },
    {
      "cell_type": "code",
      "source": [
        "# void DeleteUser(int userid){\n",
        "#     delete(userid);\n",
        "#}\n",
        "\n",
        "def delete_user (userid):\n",
        "    print(\"Successfully deleted user: {}\".format(userid))\n",
        "\n",
        "def delete_all_users ():\n",
        "    print(\"I love myself\")"
      ],
      "metadata": {
        "id": "tb-Q0KJ2kohb"
      },
      "execution_count": null,
      "outputs": []
    },
    {
      "cell_type": "code",
      "source": [
        "userid = \"Emma_Gorgeous\"\n",
        "delete_user(\"Emma_Gorgeous\")\n",
        "delete_all_users()"
      ],
      "metadata": {
        "colab": {
          "base_uri": "https://localhost:8080/"
        },
        "id": "dvpMI8lll06W",
        "outputId": "19d632d1-5f32-4e16-8599-aaca710440a6"
      },
      "execution_count": null,
      "outputs": [
        {
          "output_type": "stream",
          "name": "stdout",
          "text": [
            "Successfully deleted user: Emma_Gorgeous\n",
            "I love myself\n"
          ]
        }
      ]
    },
    {
      "cell_type": "code",
      "source": [
        "def add(addend1, addend2):\n",
        "    return addend1 + addend2\n",
        "    \n",
        "def power_of_base2(exponent):\n",
        "    return 5**exponent"
      ],
      "metadata": {
        "id": "R8-xYX2bnpx7"
      },
      "execution_count": null,
      "outputs": []
    },
    {
      "cell_type": "code",
      "source": [
        "addend1, addend2 = 44, 46\n",
        "add(addend1, addend2)\n",
        "\n",
        "exponent = 6\n",
        "power_of_base2(exponent)"
      ],
      "metadata": {
        "colab": {
          "base_uri": "https://localhost:8080/"
        },
        "id": "o9SE3kZPqu4W",
        "outputId": "654fc01b-cd4e-4dd4-bff4-2ce1edcffc5f"
      },
      "execution_count": null,
      "outputs": [
        {
          "output_type": "execute_result",
          "data": {
            "text/plain": [
              "15625"
            ]
          },
          "metadata": {},
          "execution_count": 21
        }
      ]
    },
    {
      "cell_type": "markdown",
      "source": [
        "##Calculator grade\n",
        "this grade calculator computes a course's semestral grade. Learners may enter their names, the course name, and then their preliminary, midterm, and final grades. The calculator also compute the semestral grade in two decimal point with a corresponding emoji greater than 70.00 which is happy, equal to 70.00 laughing emoji and lastly for less than 70.00 sad emoji."
      ],
      "metadata": {
        "id": "OmTiemapF4ad"
      }
    },
    {
      "cell_type": "code",
      "source": [
        "print()\n",
        "name = input('\\twhat is your name ');\n",
        "course = input('\\twhat is your course? ');\n",
        "prelim = float(input('\\tprelim grade '));\n",
        "midterm = float(input('\\tmidterm grade '));\n",
        "final = float(input('\\tfinal grade '));\n",
        "sem_grade = (prelim*0.30) + (midterm*0.30) + (final*0.40);\n",
        "\n",
        "sem_grade = \"{:.2f}\".format(sem_grade)\n",
        "print();\n",
        "print(\"\\t*****Results*****\");\n",
        "print();\n",
        "print(\"\\tyour name is\", name, \"and your course is\", course);\n",
        "if float(sem_grade) > 70.00:\n",
        "  print(\"\\tYour grade is\", sem_grade, \"\\U0001F600\");\n",
        "elif float(sem_grade) == 70.00:\n",
        "  print(\"\\tYour grade is\",sem_grade, \"\\U0001F606\");\n",
        "elif float(sem_grade) < 70.00:\n",
        "  print(\"\\tYour grade is\", sem_grade, \"\\U0001F62D\")\n",
        "  print();"
      ],
      "metadata": {
        "colab": {
          "base_uri": "https://localhost:8080/"
        },
        "id": "_noLR21cF9BE",
        "outputId": "89d60a1f-c7d4-40d9-a8f2-053b8837bbd2"
      },
      "execution_count": 5,
      "outputs": [
        {
          "output_type": "stream",
          "name": "stdout",
          "text": [
            "\n",
            "\twhat is your name Michael John M. Taguinod\n",
            "\twhat is your course? Linear Algebra\n",
            "\tprelim grade 98\n",
            "\tmidterm grade 97\n",
            "\tfinal grade 96.7\n",
            "\n",
            "\t*****Results*****\n",
            "\n",
            "\tyour name is Michael John M. Taguinod and your course is Linear Algebra\n",
            "\tYour grade is 97.18 😀\n"
          ]
        }
      ]
    }
  ]
}